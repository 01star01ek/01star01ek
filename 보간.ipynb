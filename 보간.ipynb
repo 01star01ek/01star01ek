{
  "cells": [
    {
      "cell_type": "markdown",
      "metadata": {
        "id": "view-in-github",
        "colab_type": "text"
      },
      "source": [
        "<a href=\"https://colab.research.google.com/github/01star01ek/01star01ek/blob/main/%EB%B3%B4%EA%B0%84.ipynb\" target=\"_parent\"><img src=\"https://colab.research.google.com/assets/colab-badge.svg\" alt=\"Open In Colab\"/></a>"
      ]
    },
    {
      "cell_type": "markdown",
      "source": [
        "# RIFE Video Interpolation Colab\n",
        "\n",
        "Adapted from: [ECCV2022-RIFE](https://github.com/megvii-research/ECCV2022-RIFE)\n",
        "\n",
        "Made with ❤️ by: [yuvraj108c](https://github.com/yuvraj108c)"
      ],
      "metadata": {
        "id": "3BZ-twAdK_Ix"
      }
    },
    {
      "cell_type": "markdown",
      "source": [
        "# 1. Setup (~ 1 minute)"
      ],
      "metadata": {
        "id": "tym-oeGdFhvh"
      }
    },
    {
      "cell_type": "code",
      "execution_count": 1,
      "metadata": {
        "id": "FypCcZkNNt2p",
        "outputId": "b545fee1-cd08-41a2-9112-077399553d53",
        "colab": {
          "base_uri": "https://localhost:8080/"
        }
      },
      "outputs": [
        {
          "output_type": "stream",
          "name": "stdout",
          "text": [
            "Requirement already satisfied: gdown==v4.6.3 in /usr/local/lib/python3.11/dist-packages (4.6.3)\n",
            "Requirement already satisfied: filelock in /usr/local/lib/python3.11/dist-packages (from gdown==v4.6.3) (3.17.0)\n",
            "Requirement already satisfied: requests[socks] in /usr/local/lib/python3.11/dist-packages (from gdown==v4.6.3) (2.32.3)\n",
            "Requirement already satisfied: six in /usr/local/lib/python3.11/dist-packages (from gdown==v4.6.3) (1.17.0)\n",
            "Requirement already satisfied: tqdm in /usr/local/lib/python3.11/dist-packages (from gdown==v4.6.3) (4.67.1)\n",
            "Requirement already satisfied: beautifulsoup4 in /usr/local/lib/python3.11/dist-packages (from gdown==v4.6.3) (4.13.3)\n",
            "Requirement already satisfied: soupsieve>1.2 in /usr/local/lib/python3.11/dist-packages (from beautifulsoup4->gdown==v4.6.3) (2.6)\n",
            "Requirement already satisfied: typing-extensions>=4.0.0 in /usr/local/lib/python3.11/dist-packages (from beautifulsoup4->gdown==v4.6.3) (4.12.2)\n",
            "Requirement already satisfied: charset-normalizer<4,>=2 in /usr/local/lib/python3.11/dist-packages (from requests[socks]->gdown==v4.6.3) (3.4.1)\n",
            "Requirement already satisfied: idna<4,>=2.5 in /usr/local/lib/python3.11/dist-packages (from requests[socks]->gdown==v4.6.3) (3.10)\n",
            "Requirement already satisfied: urllib3<3,>=1.21.1 in /usr/local/lib/python3.11/dist-packages (from requests[socks]->gdown==v4.6.3) (2.3.0)\n",
            "Requirement already satisfied: certifi>=2017.4.17 in /usr/local/lib/python3.11/dist-packages (from requests[socks]->gdown==v4.6.3) (2025.1.31)\n",
            "Requirement already satisfied: PySocks!=1.5.7,>=1.5.6 in /usr/local/lib/python3.11/dist-packages (from requests[socks]->gdown==v4.6.3) (1.7.1)\n",
            "fatal: destination path 'arXiv2020-RIFE' already exists and is not an empty directory.\n",
            "mkdir: cannot create directory ‘/content/arXiv2020-RIFE/train_log’: File exists\n",
            "/content/arXiv2020-RIFE/train_log\n",
            "Downloading...\n",
            "From: https://drive.google.com/uc?id=1APIzVeI-4ZZCEuIRE1m6WYfSCaOsi_7_\n",
            "To: /content/arXiv2020-RIFE/train_log/RIFE_trained_model_v3.6.zip\n",
            "100% 11.3M/11.3M [00:00<00:00, 34.9MB/s]\n",
            "\n",
            "7-Zip [64] 16.02 : Copyright (c) 1999-2016 Igor Pavlov : 2016-05-21\n",
            "p7zip Version 16.02 (locale=en_US.UTF-8,Utf16=on,HugeFiles=on,64 bits,2 CPUs Intel(R) Xeon(R) CPU @ 2.00GHz (50653),ASM,AES-NI)\n",
            "\n",
            "Scanning the drive for archives:\n",
            "  0M Scan\b\b\b\b\b\b\b\b\b         \b\b\b\b\b\b\b\b\b1 file, 11332064 bytes (11 MiB)\n",
            "\n",
            "Extracting archive: RIFE_trained_model_v3.6.zip\n",
            "--\n",
            "Path = RIFE_trained_model_v3.6.zip\n",
            "Type = zip\n",
            "Physical Size = 11332064\n",
            "\n",
            "  0%\b\b\b\b    \b\b\b\b\n",
            "Would you like to replace the existing file:\n",
            "  Path:     ./.DS_Store\n",
            "  Size:     6148 bytes (7 KiB)\n",
            "  Modified: 2021-06-17 11:33:40\n",
            "with the file from archive:\n",
            "  Path:     train_log/.DS_Store\n",
            "  Size:     6148 bytes (7 KiB)\n",
            "  Modified: 2021-06-17 11:33:40\n",
            "? (Y)es / (N)o / (A)lways / (S)kip all / A(u)to rename all / (Q)uit? n\n",
            "\n",
            "  0% 1\b\b\b\b\b\b      \b\b\b\b\b\b\n",
            "Would you like to replace the existing file:\n",
            "  Path:     ./._.DS_Store\n",
            "  Size:     212 bytes (1 KiB)\n",
            "  Modified: 2021-06-17 11:33:40\n",
            "with the file from archive:\n",
            "  Path:     __MACOSX/train_log/._.DS_Store\n",
            "  Size:     212 bytes (1 KiB)\n",
            "  Modified: 2021-06-17 11:33:40\n",
            "? (Y)es / (N)o / (A)lways / (S)kip all / A(u)to rename all / (Q)uit? n\n",
            "\n",
            "  0% 3\b\b\b\b\b\b      \b\b\b\b\b\b\n",
            "Would you like to replace the existing file:\n",
            "  Path:     ./flownet.pkl\n",
            "  Size:     12186817 bytes (12 MiB)\n",
            "  Modified: 2021-06-17 11:16:00\n",
            "with the file from archive:\n",
            "  Path:     train_log/flownet.pkl\n",
            "  Size:     12186817 bytes (12 MiB)\n",
            "  Modified: 2021-06-17 11:16:00\n",
            "? (Y)es / (N)o / (A)lways / (S)kip all / A(u)to rename all / (Q)uit? n\n",
            "\n",
            " 99% 3\b\b\b\b\b\b      \b\b\b\b\b\b\n",
            "Would you like to replace the existing file:\n",
            "  Path:     ./IFNet_HDv3.py\n",
            "  Size:     4642 bytes (5 KiB)\n",
            "  Modified: 2021-06-17 15:21:22\n",
            "with the file from archive:\n",
            "  Path:     train_log/IFNet_HDv3.py\n",
            "  Size:     4642 bytes (5 KiB)\n",
            "  Modified: 2021-06-17 15:21:22\n",
            "? (Y)es / (N)o / (A)lways / (S)kip all / A(u)to rename all / (Q)uit? n\n",
            "\n",
            " 99% 3\b\b\b\b\b\b      \b\b\b\b\b\b\n",
            "Would you like to replace the existing file:\n",
            "  Path:     ./._IFNet_HDv3.py\n",
            "  Size:     333 bytes (1 KiB)\n",
            "  Modified: 2021-06-17 15:21:22\n",
            "with the file from archive:\n",
            "  Path:     __MACOSX/train_log/._IFNet_HDv3.py\n",
            "  Size:     333 bytes (1 KiB)\n",
            "  Modified: 2021-06-17 15:21:22\n",
            "? (Y)es / (N)o / (A)lways / (S)kip all / A(u)to rename all / (Q)uit? n\n",
            "\n",
            " 99% 3\b\b\b\b\b\b      \b\b\b\b\b\b\n",
            "Would you like to replace the existing file:\n",
            "  Path:     ./IFNet_HDv3.cpython-37.pyc\n",
            "  Size:     3694 bytes (4 KiB)\n",
            "  Modified: 2021-06-17 15:22:52\n",
            "with the file from archive:\n",
            "  Path:     train_log/__pycache__/IFNet_HDv3.cpython-37.pyc\n",
            "  Size:     3694 bytes (4 KiB)\n",
            "  Modified: 2021-06-17 15:22:52\n",
            "? (Y)es / (N)o / (A)lways / (S)kip all / A(u)to rename all / (Q)uit? n\n",
            "\n",
            " 99% 4\b\b\b\b\b\b      \b\b\b\b\b\b\n",
            "Would you like to replace the existing file:\n",
            "  Path:     ./RIFE_HDv3.cpython-37.pyc\n",
            "  Size:     3436 bytes (4 KiB)\n",
            "  Modified: 2021-06-17 15:22:52\n",
            "with the file from archive:\n",
            "  Path:     train_log/__pycache__/RIFE_HDv3.cpython-37.pyc\n",
            "  Size:     3436 bytes (4 KiB)\n",
            "  Modified: 2021-06-17 15:22:52\n",
            "? (Y)es / (N)o / (A)lways / (S)kip all / A(u)to rename all / (Q)uit? n\n",
            "\n",
            " 99% 4\b\b\b\b\b\b      \b\b\b\b\b\b\n",
            "Would you like to replace the existing file:\n",
            "  Path:     ./RIFE_HDv3.py\n",
            "  Size:     2992 bytes (3 KiB)\n",
            "  Modified: 2021-06-17 15:22:26\n",
            "with the file from archive:\n",
            "  Path:     train_log/RIFE_HDv3.py\n",
            "  Size:     2992 bytes (3 KiB)\n",
            "  Modified: 2021-06-17 15:22:26\n",
            "? (Y)es / (N)o / (A)lways / (S)kip all / A(u)to rename all / (Q)uit? n\n",
            "\n",
            " 99% 4\b\b\b\b\b\b      \b\b\b\b\b\b\n",
            "Would you like to replace the existing file:\n",
            "  Path:     ./._RIFE_HDv3.py\n",
            "  Size:     333 bytes (1 KiB)\n",
            "  Modified: 2021-06-17 15:22:26\n",
            "with the file from archive:\n",
            "  Path:     __MACOSX/train_log/._RIFE_HDv3.py\n",
            "  Size:     333 bytes (1 KiB)\n",
            "  Modified: 2021-06-17 15:22:26\n",
            "? (Y)es / (N)o / (A)lways / (S)kip all / A(u)to rename all / (Q)uit? n\n",
            "\n",
            " 99% 4\b\b\b\b\b\b      \b\b\b\b\b\b\n",
            "Would you like to replace the existing file:\n",
            "  Path:     ./._train_log\n",
            "  Size:     212 bytes (1 KiB)\n",
            "  Modified: 2021-06-17 15:22:52\n",
            "with the file from archive:\n",
            "  Path:     __MACOSX/._train_log\n",
            "  Size:     212 bytes (1 KiB)\n",
            "  Modified: 2021-06-17 15:22:52\n",
            "? (Y)es / (N)o / (A)lways / (S)kip all / A(u)to rename all / (Q)uit? n\n",
            "\n",
            "100% 4\b\b\b\b\b\b      \b\b\b\b\b\bEverything is Ok\n",
            "\n",
            "Folders: 4\n",
            "Files: 0\n",
            "Size:       0\n",
            "Compressed: 11332064\n",
            "/content/arXiv2020-RIFE\n",
            "Downloading...\n",
            "From: https://drive.google.com/uc?id=1i3xlKb7ax7Y70khcTcuePi6E7crO_dFc\n",
            "To: /content/arXiv2020-RIFE/demo.mp4\n",
            "100% 54.6M/54.6M [00:01<00:00, 30.6MB/s]\n",
            "Requirement already satisfied: scikit-video in /usr/local/lib/python3.11/dist-packages (1.1.11)\n",
            "Requirement already satisfied: numpy in /usr/local/lib/python3.11/dist-packages (from scikit-video) (1.23.5)\n",
            "Requirement already satisfied: pillow in /usr/local/lib/python3.11/dist-packages (from scikit-video) (11.1.0)\n",
            "Requirement already satisfied: scipy in /usr/local/lib/python3.11/dist-packages (from scikit-video) (1.13.1)\n"
          ]
        }
      ],
      "source": [
        "!pip install gdown==v4.6.3\n",
        "!git clone https://github.com/hzwer/arXiv2020-RIFE\n",
        "\n",
        "!mkdir /content/arXiv2020-RIFE/train_log\n",
        "%cd /content/arXiv2020-RIFE/train_log\n",
        "!gdown 1APIzVeI-4ZZCEuIRE1m6WYfSCaOsi_7_\n",
        "!7z e RIFE_trained_model_v3.6.zip\n",
        "\n",
        "%cd /content/arXiv2020-RIFE/\n",
        "!gdown 1i3xlKb7ax7Y70khcTcuePi6E7crO_dFc\n",
        "!pip install scikit-video"
      ]
    },
    {
      "cell_type": "markdown",
      "source": [
        "# 2. Interpolate video\n",
        "\n",
        "- Upload your video & set the video path\n",
        "- Adjust the `exp` slider, which controls the FPS of the output video\n",
        "- The interpolated video will be saved in the same directory as original video"
      ],
      "metadata": {
        "id": "FPWSa3soF1IE"
      }
    },
    {
      "cell_type": "code",
      "source": [
        "video_path = \"/content/face_swapped_video.mp4\" #@param {type:\"string\"}\n",
        "exp = 2 # @param {type:\"slider\", min:1, max:10, step:1}\n",
        "\n",
        "!python3 inference_video.py --exp={exp} --video={video_path}"
      ],
      "metadata": {
        "cellView": "form",
        "id": "bno5be6SDtxg",
        "colab": {
          "base_uri": "https://localhost:8080/"
        },
        "outputId": "2247368f-9901-4047-b39e-2ed1d19f6e7d"
      },
      "execution_count": 2,
      "outputs": [
        {
          "output_type": "stream",
          "name": "stdout",
          "text": [
            "Loaded v3.x HD model.\n",
            "/content/face_swapped_video.mp4, 5.0 frames in total, 30.0FPS to 120.0FPS\n",
            "The audio will be merged after interpolation process\n",
            " 80% 4/5.0 [00:03<00:00,  1.09it/s]\n",
            "error: XDG_RUNTIME_DIR not set in the environment.\n",
            "ALSA lib confmisc.c:855:(parse_card) cannot find card '0'\n",
            "ALSA lib conf.c:5178:(_snd_config_evaluate) function snd_func_card_inum returned error: No such file or directory\n",
            "ALSA lib confmisc.c:422:(snd_func_concat) error evaluating strings\n",
            "ALSA lib conf.c:5178:(_snd_config_evaluate) function snd_func_concat returned error: No such file or directory\n",
            "ALSA lib confmisc.c:1334:(snd_func_refer) error evaluating name\n",
            "ALSA lib conf.c:5178:(_snd_config_evaluate) function snd_func_refer returned error: No such file or directory\n",
            "ALSA lib conf.c:5701:(snd_config_expand) Evaluate error: No such file or directory\n",
            "ALSA lib pcm.c:2664:(snd_pcm_open_noupdate) Unknown PCM default\n",
            "ALSA lib confmisc.c:855:(parse_card) cannot find card '0'\n",
            "ALSA lib conf.c:5178:(_snd_config_evaluate) function snd_func_card_inum returned error: No such file or directory\n",
            "ALSA lib confmisc.c:422:(snd_func_concat) error evaluating strings\n",
            "ALSA lib conf.c:5178:(_snd_config_evaluate) function snd_func_concat returned error: No such file or directory\n",
            "ALSA lib confmisc.c:1334:(snd_func_refer) error evaluating name\n",
            "ALSA lib conf.c:5178:(_snd_config_evaluate) function snd_func_refer returned error: No such file or directory\n",
            "ALSA lib conf.c:5701:(snd_config_expand) Evaluate error: No such file or directory\n",
            "ALSA lib pcm.c:2664:(snd_pcm_open_noupdate) Unknown PCM default\n",
            "ffmpeg version 4.4.2-0ubuntu0.22.04.1 Copyright (c) 2000-2021 the FFmpeg developers\n",
            "  built with gcc 11 (Ubuntu 11.2.0-19ubuntu1)\n",
            "  configuration: --prefix=/usr --extra-version=0ubuntu0.22.04.1 --toolchain=hardened --libdir=/usr/lib/x86_64-linux-gnu --incdir=/usr/include/x86_64-linux-gnu --arch=amd64 --enable-gpl --disable-stripping --enable-gnutls --enable-ladspa --enable-libaom --enable-libass --enable-libbluray --enable-libbs2b --enable-libcaca --enable-libcdio --enable-libcodec2 --enable-libdav1d --enable-libflite --enable-libfontconfig --enable-libfreetype --enable-libfribidi --enable-libgme --enable-libgsm --enable-libjack --enable-libmp3lame --enable-libmysofa --enable-libopenjpeg --enable-libopenmpt --enable-libopus --enable-libpulse --enable-librabbitmq --enable-librubberband --enable-libshine --enable-libsnappy --enable-libsoxr --enable-libspeex --enable-libsrt --enable-libssh --enable-libtheora --enable-libtwolame --enable-libvidstab --enable-libvorbis --enable-libvpx --enable-libwebp --enable-libx265 --enable-libxml2 --enable-libxvid --enable-libzimg --enable-libzmq --enable-libzvbi --enable-lv2 --enable-omx --enable-openal --enable-opencl --enable-opengl --enable-sdl2 --enable-pocketsphinx --enable-librsvg --enable-libmfx --enable-libdc1394 --enable-libdrm --enable-libiec61883 --enable-chromaprint --enable-frei0r --enable-libx264 --enable-shared\n",
            "  libavutil      56. 70.100 / 56. 70.100\n",
            "  libavcodec     58.134.100 / 58.134.100\n",
            "  libavformat    58. 76.100 / 58. 76.100\n",
            "  libavdevice    58. 13.100 / 58. 13.100\n",
            "  libavfilter     7.110.100 /  7.110.100\n",
            "  libswscale      5.  9.100 /  5.  9.100\n",
            "  libswresample   3.  9.100 /  3.  9.100\n",
            "  libpostproc    55.  9.100 / 55.  9.100\n",
            "Input #0, mov,mp4,m4a,3gp,3g2,mj2, from '/content/face_swapped_video.mp4':\n",
            "  Metadata:\n",
            "    major_brand     : isom\n",
            "    minor_version   : 512\n",
            "    compatible_brands: isomiso2mp41\n",
            "    encoder         : Lavf59.27.100\n",
            "  Duration: 00:00:00.17, start: 0.000000, bitrate: 2584 kb/s\n",
            "  Stream #0:0(und): Video: mpeg4 (Simple Profile) (mp4v / 0x7634706D), yuv420p, 966x500 [SAR 1:1 DAR 483:250], 2546 kb/s, 30 fps, 30 tbr, 15360 tbn, 30 tbc (default)\n",
            "    Metadata:\n",
            "      handler_name    : VideoHandler\n",
            "      vendor_id       : [0][0][0][0]\n",
            "Output #0, matroska, to './temp/audio.mkv':\n",
            "\u001b[1;31mOutput file #0 does not contain any stream\n",
            "\u001b[0mffmpeg version 4.4.2-0ubuntu0.22.04.1 Copyright (c) 2000-2021 the FFmpeg developers\n",
            "  built with gcc 11 (Ubuntu 11.2.0-19ubuntu1)\n",
            "  configuration: --prefix=/usr --extra-version=0ubuntu0.22.04.1 --toolchain=hardened --libdir=/usr/lib/x86_64-linux-gnu --incdir=/usr/include/x86_64-linux-gnu --arch=amd64 --enable-gpl --disable-stripping --enable-gnutls --enable-ladspa --enable-libaom --enable-libass --enable-libbluray --enable-libbs2b --enable-libcaca --enable-libcdio --enable-libcodec2 --enable-libdav1d --enable-libflite --enable-libfontconfig --enable-libfreetype --enable-libfribidi --enable-libgme --enable-libgsm --enable-libjack --enable-libmp3lame --enable-libmysofa --enable-libopenjpeg --enable-libopenmpt --enable-libopus --enable-libpulse --enable-librabbitmq --enable-librubberband --enable-libshine --enable-libsnappy --enable-libsoxr --enable-libspeex --enable-libsrt --enable-libssh --enable-libtheora --enable-libtwolame --enable-libvidstab --enable-libvorbis --enable-libvpx --enable-libwebp --enable-libx265 --enable-libxml2 --enable-libxvid --enable-libzimg --enable-libzmq --enable-libzvbi --enable-lv2 --enable-omx --enable-openal --enable-opencl --enable-opengl --enable-sdl2 --enable-pocketsphinx --enable-librsvg --enable-libmfx --enable-libdc1394 --enable-libdrm --enable-libiec61883 --enable-chromaprint --enable-frei0r --enable-libx264 --enable-shared\n",
            "  libavutil      56. 70.100 / 56. 70.100\n",
            "  libavcodec     58.134.100 / 58.134.100\n",
            "  libavformat    58. 76.100 / 58. 76.100\n",
            "  libavdevice    58. 13.100 / 58. 13.100\n",
            "  libavfilter     7.110.100 /  7.110.100\n",
            "  libswscale      5.  9.100 /  5.  9.100\n",
            "  libswresample   3.  9.100 /  3.  9.100\n",
            "  libpostproc    55.  9.100 / 55.  9.100\n",
            "Input #0, mov,mp4,m4a,3gp,3g2,mj2, from '/content/face_swapped_video_4X_120fps_noaudio.mp4':\n",
            "  Metadata:\n",
            "    major_brand     : isom\n",
            "    minor_version   : 512\n",
            "    compatible_brands: isomiso2mp41\n",
            "    encoder         : Lavf59.27.100\n",
            "  Duration: 00:00:00.14, start: 0.000000, bitrate: 5498 kb/s\n",
            "  Stream #0:0(und): Video: mpeg4 (Simple Profile) (mp4v / 0x7634706D), yuv420p, 966x500 [SAR 1:1 DAR 483:250], 5457 kb/s, 120 fps, 120 tbr, 15360 tbn, 120 tbc (default)\n",
            "    Metadata:\n",
            "      handler_name    : VideoHandler\n",
            "      vendor_id       : [0][0][0][0]\n",
            "\u001b[1;31m./temp/audio.mkv: No such file or directory\n",
            "\u001b[0mAudio transfer failed. Interpolated video will have no audio\n"
          ]
        }
      ]
    },
    {
      "cell_type": "code",
      "source": [
        "!pip install numpy==1.23.5\n"
      ],
      "metadata": {
        "id": "NvHULF1Wjw1a",
        "outputId": "334026bb-7e6e-4652-9724-db314036ceaa",
        "colab": {
          "base_uri": "https://localhost:8080/",
          "height": 586
        }
      },
      "execution_count": 4,
      "outputs": [
        {
          "output_type": "stream",
          "name": "stdout",
          "text": [
            "Collecting numpy==1.23.5\n",
            "  Downloading numpy-1.23.5-cp311-cp311-manylinux_2_17_x86_64.manylinux2014_x86_64.whl.metadata (2.3 kB)\n",
            "Downloading numpy-1.23.5-cp311-cp311-manylinux_2_17_x86_64.manylinux2014_x86_64.whl (17.1 MB)\n",
            "\u001b[2K   \u001b[90m━━━━━━━━━━━━━━━━━━━━━━━━━━━━━━━━━━━━━━━━\u001b[0m \u001b[32m17.1/17.1 MB\u001b[0m \u001b[31m97.3 MB/s\u001b[0m eta \u001b[36m0:00:00\u001b[0m\n",
            "\u001b[?25hInstalling collected packages: numpy\n",
            "  Attempting uninstall: numpy\n",
            "    Found existing installation: numpy 1.26.4\n",
            "    Uninstalling numpy-1.26.4:\n",
            "      Successfully uninstalled numpy-1.26.4\n",
            "\u001b[31mERROR: pip's dependency resolver does not currently take into account all the packages that are installed. This behaviour is the source of the following dependency conflicts.\n",
            "jaxlib 0.4.33 requires numpy>=1.24, but you have numpy 1.23.5 which is incompatible.\n",
            "imbalanced-learn 0.13.0 requires numpy<3,>=1.24.3, but you have numpy 1.23.5 which is incompatible.\n",
            "chex 0.1.89 requires numpy>=1.24.1, but you have numpy 1.23.5 which is incompatible.\n",
            "albucore 0.0.23 requires numpy>=1.24.4, but you have numpy 1.23.5 which is incompatible.\n",
            "tensorflow 2.18.0 requires numpy<2.1.0,>=1.26.0, but you have numpy 1.23.5 which is incompatible.\n",
            "bigframes 1.38.0 requires numpy>=1.24.0, but you have numpy 1.23.5 which is incompatible.\n",
            "treescope 0.1.9 requires numpy>=1.25.2, but you have numpy 1.23.5 which is incompatible.\n",
            "albumentations 2.0.5 requires numpy>=1.24.4, but you have numpy 1.23.5 which is incompatible.\n",
            "xarray 2025.1.2 requires numpy>=1.24, but you have numpy 1.23.5 which is incompatible.\n",
            "langchain 0.3.19 requires numpy<2,>=1.26.4; python_version < \"3.12\", but you have numpy 1.23.5 which is incompatible.\n",
            "pymc 5.20.1 requires numpy>=1.25.0, but you have numpy 1.23.5 which is incompatible.\n",
            "scikit-image 0.25.2 requires numpy>=1.24, but you have numpy 1.23.5 which is incompatible.\n",
            "jax 0.4.33 requires numpy>=1.24, but you have numpy 1.23.5 which is incompatible.\n",
            "blosc2 3.2.0 requires numpy>=1.26, but you have numpy 1.23.5 which is incompatible.\u001b[0m\u001b[31m\n",
            "\u001b[0mSuccessfully installed numpy-1.23.5\n"
          ]
        },
        {
          "output_type": "display_data",
          "data": {
            "application/vnd.colab-display-data+json": {
              "pip_warning": {
                "packages": [
                  "numpy"
                ]
              },
              "id": "55681f454b9e4b049efefe6c512b7d7a"
            }
          },
          "metadata": {}
        }
      ]
    }
  ],
  "metadata": {
    "accelerator": "GPU",
    "colab": {
      "provenance": [],
      "include_colab_link": true
    },
    "kernelspec": {
      "display_name": "Python 3",
      "name": "python3"
    }
  },
  "nbformat": 4,
  "nbformat_minor": 0
}