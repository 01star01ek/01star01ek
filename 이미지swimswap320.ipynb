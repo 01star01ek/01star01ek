{
  "nbformat": 4,
  "nbformat_minor": 0,
  "metadata": {
    "colab": {
      "private_outputs": true,
      "provenance": [],
      "collapsed_sections": [
        "xTo1C8aPUoOh",
        "rcoRX8OnVImS"
      ],
      "include_colab_link": true
    },
    "kernelspec": {
      "name": "python3",
      "display_name": "Python 3"
    },
    "language_info": {
      "name": "python"
    },
    "accelerator": "GPU"
  },
  "cells": [
    {
      "cell_type": "markdown",
      "metadata": {
        "id": "view-in-github",
        "colab_type": "text"
      },
      "source": [
        "<a href=\"https://colab.research.google.com/github/01star01ek/01star01ek/blob/main/%EC%9D%B4%EB%AF%B8%EC%A7%80swimswap320.ipynb\" target=\"_parent\"><img src=\"https://colab.research.google.com/assets/colab-badge.svg\" alt=\"Open In Colab\"/></a>"
      ]
    },
    {
      "cell_type": "markdown",
      "metadata": {
        "id": "7_gtFoV8BuRx"
      },
      "source": [
        "# SimSwap\n",
        "Reference: https://github.com/neuralchen/SimSwap"
      ]
    },
    {
      "cell_type": "code",
      "metadata": {
        "id": "VA_4CeWZCHLP"
      },
      "source": [
        "%cd /content\n",
        "!git clone https://github.com/woctezuma/SimSwap.git\n",
        "%cd /content/SimSwap/\n",
        "!git checkout upgrade-insightface"
      ],
      "execution_count": null,
      "outputs": []
    },
    {
      "cell_type": "code",
      "source": [
        "# PyTorch + TorchVision + NumPy 안정 조합 설치\n",
        "!pip install torch==2.0.1 torchvision==0.15.2 torchaudio==2.0.2 --index-url https://download.pytorch.org/whl/cu118\n",
        "!pip install numpy==1.24.4\n"
      ],
      "metadata": {
        "id": "oP7fb9uiAchv"
      },
      "execution_count": null,
      "outputs": []
    },
    {
      "cell_type": "code",
      "source": [
        "!pip install insightface==0.7.3 onnxruntime moviepy imageio==2.34.0 > /dev/null"
      ],
      "metadata": {
        "id": "Kn7hAU9LBVYy"
      },
      "execution_count": null,
      "outputs": []
    },
    {
      "cell_type": "code",
      "metadata": {
        "id": "lKAcJ4ngVEUV"
      },
      "source": [
        "!unzip ./checkpoints.zip  -d ./checkpoints\n",
        "\n",
        "!unzip 512.zip -d ./checkpoints\n",
        "\n",
        "!unzip antelope.zip -d ./insightface_func/models/"
      ],
      "execution_count": null,
      "outputs": []
    },
    {
      "cell_type": "code",
      "source": [
        "!sed -i 's/det_size=(640,640)/det_size=(320,320)/g' /content/SimSwap/test_wholeimage_swapsingle.py"
      ],
      "metadata": {
        "id": "AWlemqsFo5ie"
      },
      "execution_count": null,
      "outputs": []
    },
    {
      "cell_type": "code",
      "source": [
        "import os\n",
        "import cv2\n",
        "import numpy as np\n",
        "from PIL import Image\n",
        "import insightface\n",
        "import subprocess\n",
        "import sys\n",
        "from pathlib import Path\n",
        "import shutil\n",
        "import time\n",
        "\n",
        "os.makedirs('/content/swapped_frames', exist_ok=True)\n",
        "\n",
        "class VideoFaceSwapProcessor:\n",
        "    def __init__(self, base_path=\"/content\"):\n",
        "        self.base_path = Path(base_path)\n",
        "        self.simswap_path = self.base_path / \"SimSwap\"\n",
        "        self.source_face_path = self.base_path / \"source.png\"  # 합성할 얼굴 이미지\n",
        "        self.input_video_path = self.base_path / \"target.mp4\"  # 입력 영상\n",
        "        self.output_path = self.base_path / \"output\"\n",
        "        self.frames_path = self.base_path / \"frames\"\n",
        "        self.swapped_frames_path = self.base_path / \"swapped_frames\"\n",
        "\n",
        "        # 얼굴 검출기는 한 번만 초기화\n",
        "        self.face_detector = None\n",
        "\n",
        "    def _init_face_detector(self):\n",
        "        \"\"\"얼굴 검출기 초기화 (lazy loading)\"\"\"\n",
        "        if self.face_detector is None:\n",
        "            self.face_detector = insightface.app.FaceAnalysis(name='buffalo_l')\n",
        "            self.face_detector.prepare(ctx_id=0, det_size=(320, 320))\n",
        "\n",
        "    def setup_environment(self):\n",
        "        \"\"\"환경 설정 및 의존성 설치\"\"\"\n",
        "        print(\"🔧 환경 설정 중...\")\n",
        "\n",
        "        if self.simswap_path.exists():\n",
        "            print(\"✅ SimSwap 이미 설치됨\")\n",
        "            return\n",
        "\n",
        "        os.chdir(self.base_path)\n",
        "        subprocess.run([\n",
        "            \"git\", \"clone\", \"https://github.com/woctezuma/SimSwap.git\"\n",
        "        ], check=True, stdout=subprocess.DEVNULL)\n",
        "\n",
        "        os.chdir(self.simswap_path)\n",
        "        subprocess.run([\n",
        "            \"git\", \"checkout\", \"upgrade-insightface\"\n",
        "        ], check=True, stdout=subprocess.DEVNULL)\n",
        "\n",
        "        print(\"✅ 환경 설정 완료\")\n",
        "\n",
        "    def install_dependencies(self):\n",
        "        \"\"\"의존성 설치\"\"\"\n",
        "        print(\"📦 의존성 설치 중...\")\n",
        "\n",
        "        packages = [\n",
        "            \"torch==2.0.1\", \"torchvision==0.15.2\", \"torchaudio==2.0.2\",\n",
        "            \"--index-url\", \"https://download.pytorch.org/whl/cu118\",\n",
        "            \"numpy==1.24.4\", \"insightface==0.7.3\", \"onnxruntime\",\n",
        "            \"moviepy\", \"imageio==2.34.0\", \"opencv-python\"\n",
        "        ]\n",
        "\n",
        "        subprocess.run([sys.executable, \"-m\", \"pip\", \"install\"] + packages,\n",
        "                      check=True, stdout=subprocess.DEVNULL)\n",
        "        print(\"✅ 의존성 설치 완료\")\n",
        "\n",
        "    def download_models(self):\n",
        "        \"\"\"필요한 모델 파일 다운로드\"\"\"\n",
        "        print(\"📥 모델 파일 확인 중...\")\n",
        "\n",
        "        os.chdir(self.simswap_path)\n",
        "\n",
        "        required_files = [\n",
        "            \"./checkpoints/people\",\n",
        "            \"./arcface_model/arcface_checkpoint.tar\",\n",
        "            \"./parsing_model/checkpoint/79999_iter.pth\",\n",
        "            \"./insightface_func/models/antelope\"\n",
        "        ]\n",
        "\n",
        "        missing_files = [f for f in required_files if not Path(f).exists()]\n",
        "\n",
        "        if not missing_files:\n",
        "            print(\"✅ 모든 모델 파일 존재\")\n",
        "            return\n",
        "\n",
        "        print(\"📥 누락된 모델 다운로드 중...\")\n",
        "\n",
        "        (self.simswap_path / \"arcface_model\").mkdir(exist_ok=True)\n",
        "        (self.simswap_path / \"parsing_model\" / \"checkpoint\").mkdir(parents=True, exist_ok=True)\n",
        "\n",
        "        downloads = [\n",
        "            (\"https://github.com/woctezuma/SimSwap-colab/releases/download/antelope/antelope.zip\", \"antelope.zip\"),\n",
        "            (\"https://github.com/woctezuma/SimSwap-colab/releases/download/1.0/arcface_checkpoint.tar\", \"arcface_model/arcface_checkpoint.tar\"),\n",
        "            (\"https://github.com/neuralchen/SimSwap/releases/download/1.0/checkpoints.zip\", \"checkpoints.zip\"),\n",
        "            (\"https://github.com/neuralchen/SimSwap/releases/download/1.0/79999_iter.pth\", \"parsing_model/checkpoint/79999_iter.pth\"),\n",
        "            (\"https://github.com/neuralchen/SimSwap/releases/download/512_beta/512.zip\", \"512.zip\")\n",
        "        ]\n",
        "\n",
        "        for url, local_path in downloads:\n",
        "            if not Path(local_path).exists():\n",
        "                subprocess.run([\"wget\", \"-q\", url, \"-O\", local_path], check=True)\n",
        "\n",
        "        if not Path(\"./checkpoints/people\").exists():\n",
        "            subprocess.run([\"unzip\", \"-q\", \"checkpoints.zip\", \"-d\", \"checkpoints\"], check=True)\n",
        "\n",
        "        if not Path(\"./checkpoints/512_beta\").exists():\n",
        "            subprocess.run([\"unzip\", \"-q\", \"512.zip\", \"-d\", \"checkpoints\"], check=True)\n",
        "\n",
        "        if not Path(\"./insightface_func/models/antelope\").exists():\n",
        "            subprocess.run([\"unzip\", \"-q\", \"antelope.zip\", \"-d\", \"insightface_func/models/\"], check=True)\n",
        "\n",
        "        print(\"✅ 모델 다운로드 완료\")\n",
        "\n",
        "    def extract_frames_from_video(self, frame_interval=5, max_frames=10):\n",
        "        \"\"\"영상에서 지정된 간격으로 프레임 추출 - 최대 프레임 수 제한 추가\"\"\"\n",
        "        print(f\"🎬 영상에서 {frame_interval}프레임 간격으로 추출 중... (최대 {max_frames}개)\")\n",
        "\n",
        "        if not self.input_video_path.exists():\n",
        "            print(f\"❌ 입력 영상이 없습니다: {self.input_video_path}\")\n",
        "            return [], 30, 1920, 1080\n",
        "\n",
        "        # 프레임 저장 디렉토리 생성\n",
        "        self.frames_path.mkdir(exist_ok=True)\n",
        "\n",
        "        # 기존 프레임 삭제\n",
        "        for frame_file in self.frames_path.glob(\"*.jpg\"):\n",
        "            frame_file.unlink()\n",
        "\n",
        "        cap = cv2.VideoCapture(str(self.input_video_path))\n",
        "\n",
        "        if not cap.isOpened():\n",
        "            print(\"❌ 영상을 열 수 없습니다\")\n",
        "            return [], 30, 1920, 1080\n",
        "\n",
        "        # 영상 정보 가져오기\n",
        "        fps = cap.get(cv2.CAP_PROP_FPS)\n",
        "        total_frames = int(cap.get(cv2.CAP_PROP_FRAME_COUNT))\n",
        "        width = int(cap.get(cv2.CAP_PROP_FRAME_WIDTH))\n",
        "        height = int(cap.get(cv2.CAP_PROP_FRAME_HEIGHT))\n",
        "\n",
        "        print(f\"📹 영상 정보: {width}x{height}, {fps:.1f}fps, {total_frames}프레임\")\n",
        "\n",
        "        frame_count = 0\n",
        "        extracted_count = 0\n",
        "        extracted_frames = []\n",
        "\n",
        "        while extracted_count < max_frames:  # 최대 프레임 수 제한\n",
        "            ret, frame = cap.read()\n",
        "            if not ret:\n",
        "                break\n",
        "\n",
        "            # 지정된 간격으로 프레임 저장\n",
        "            if frame_count % frame_interval == 0:\n",
        "                frame_filename = self.frames_path / f\"frame_{extracted_count:06d}.jpg\"\n",
        "                cv2.imwrite(str(frame_filename), frame)\n",
        "                extracted_frames.append(frame_filename)\n",
        "                extracted_count += 1\n",
        "\n",
        "            frame_count += 1\n",
        "\n",
        "        cap.release()\n",
        "\n",
        "        print(f\"✅ {extracted_count}개 프레임 추출 완료\")\n",
        "        return extracted_frames, fps, width, height\n",
        "\n",
        "    def preprocess_source_image(self, max_size=1024):\n",
        "        \"\"\"소스 얼굴 이미지 전처리\"\"\"\n",
        "        print(\"🖼️ 소스 이미지 전처리 중...\")\n",
        "\n",
        "        if not self.source_face_path.exists():\n",
        "            print(f\"❌ 소스 이미지가 없습니다: {self.source_face_path}\")\n",
        "            return False\n",
        "\n",
        "        jpg_path = self.source_face_path.with_suffix('.jpg')\n",
        "\n",
        "        with Image.open(self.source_face_path) as img:\n",
        "            if max(img.size) > max_size:\n",
        "                ratio = max_size / max(img.size)\n",
        "                new_size = tuple(int(ratio * sz) for sz in img.size)\n",
        "                img = img.resize(new_size, Image.Resampling.LANCZOS)\n",
        "\n",
        "            if img.mode != 'RGB':\n",
        "                img = img.convert('RGB')\n",
        "\n",
        "            img.save(jpg_path, 'JPEG', quality=95, optimize=True)\n",
        "\n",
        "        self.source_jpg = jpg_path\n",
        "        print(f\"✅ 소스 이미지 전처리 완료: {jpg_path}\")\n",
        "        return True\n",
        "\n",
        "    def detect_faces(self, img_path):\n",
        "        \"\"\"얼굴 검출\"\"\"\n",
        "        self._init_face_detector()\n",
        "\n",
        "        img = cv2.imread(str(img_path))\n",
        "        if img is None:\n",
        "            return []\n",
        "\n",
        "        return self.face_detector.get(img)\n",
        "\n",
        "    def validate_source_face(self):\n",
        "        \"\"\"소스 얼굴 이미지 유효성 검사\"\"\"\n",
        "        print(\"👤 소스 얼굴 검증 중...\")\n",
        "\n",
        "        if not self.source_jpg.exists():\n",
        "            print(\"❌ 소스 이미지 파일이 없습니다\")\n",
        "            return False\n",
        "\n",
        "        faces = self.detect_faces(self.source_jpg)\n",
        "        if not faces:\n",
        "            print(\"❌ 소스 이미지에서 얼굴을 찾을 수 없습니다\")\n",
        "            return False\n",
        "\n",
        "        print(f\"✅ 소스에서 {len(faces)}개 얼굴 발견\")\n",
        "        return True\n",
        "\n",
        "    def debug_simswap_output(self, frame_file):\n",
        "        \"\"\"SimSwap 출력 디버깅용 함수\"\"\"\n",
        "        print(f\"🔍 디버깅: {frame_file.name}\")\n",
        "\n",
        "        # 처리 전 디렉토리 상태\n",
        "        before_files = set(self.swapped_frames_path.glob(\"*\"))\n",
        "        print(f\"처리 전 파일 수: {len(before_files)}\")\n",
        "\n",
        "        cmd = [\n",
        "            \"python\", \"test_wholeimage_swapsingle.py\",\n",
        "            \"--no_simswaplogo\",\n",
        "            \"--use_mask\",\n",
        "            \"--crop_size\", \"224\",  # 더 작은 크기로 빠르게 테스트\n",
        "            \"--name\", \"people\",\n",
        "            \"--Arc_path\", \"arcface_model/arcface_checkpoint.tar\",\n",
        "            \"--pic_a_path\", str(self.source_jpg),\n",
        "            \"--pic_b_path\", str(frame_file),\n",
        "            \"--output_path\", str(self.swapped_frames_path),\n",
        "            \"--gpu_ids\", \"0\"\n",
        "        ]\n",
        "\n",
        "        print(f\"실행 명령: {' '.join(cmd)}\")\n",
        "\n",
        "        # 타임아웃 설정으로 실행\n",
        "        try:\n",
        "            result = subprocess.run(cmd, capture_output=True, text=True, timeout=60)\n",
        "        except subprocess.TimeoutExpired:\n",
        "            print(\"⏰ 타임아웃 발생 (60초)\")\n",
        "            return set()\n",
        "\n",
        "        print(f\"Return code: {result.returncode}\")\n",
        "        if result.stdout:\n",
        "            print(f\"Stdout: {result.stdout}\")\n",
        "        if result.stderr:\n",
        "            print(f\"Stderr: {result.stderr}\")\n",
        "\n",
        "        # 처리 후 디렉토리 상태\n",
        "        after_files = set(self.swapped_frames_path.glob(\"*\"))\n",
        "        new_files = after_files - before_files\n",
        "\n",
        "        print(f\"처리 후 파일 수: {len(after_files)}\")\n",
        "        print(f\"새로 생성된 파일: {[f.name for f in new_files]}\")\n",
        "\n",
        "        return new_files\n",
        "\n",
        "    def swap_faces_batch(self, frame_files, timeout_per_frame=120):\n",
        "        \"\"\"배치로 얼굴 교체 실행 - 타임아웃 및 최적화 추가\"\"\"\n",
        "        print(f\"🔄 {len(frame_files)}개 프레임 얼굴 교체 중...\")\n",
        "\n",
        "        os.chdir(self.simswap_path)\n",
        "\n",
        "        # 출력 디렉토리 생성\n",
        "        self.swapped_frames_path.mkdir(exist_ok=True)\n",
        "\n",
        "        # 기존 합성 이미지 삭제\n",
        "        for swapped_file in self.swapped_frames_path.glob(\"*.jpg\"):\n",
        "            swapped_file.unlink()\n",
        "\n",
        "        success_count = 0\n",
        "\n",
        "        for i, frame_file in enumerate(frame_files):\n",
        "            start_time = time.time()\n",
        "            print(f\"🔄 처리 중: {i+1}/{len(frame_files)} - {frame_file.name}\")\n",
        "\n",
        "            # 개별 프레임에 얼굴 교체\n",
        "            output_file = self.swapped_frames_path / f\"swapped_{i:06d}.jpg\"\n",
        "\n",
        "            cmd = [\n",
        "                \"python\", \"test_wholeimage_swapsingle.py\",\n",
        "                \"--no_simswaplogo\",\n",
        "                \"--use_mask\",\n",
        "                \"--crop_size\", \"224\",  # 더 작은 크기로 빠르게 처리\n",
        "                \"--name\", \"people\",\n",
        "                \"--Arc_path\", \"arcface_model/arcface_checkpoint.tar\",\n",
        "                \"--pic_a_path\", str(self.source_jpg),\n",
        "                \"--pic_b_path\", str(frame_file),\n",
        "                \"--output_path\", str(self.swapped_frames_path),\n",
        "                \"--gpu_ids\", \"0\"\n",
        "            ]\n",
        "\n",
        "            try:\n",
        "                # 타임아웃 설정\n",
        "                result = subprocess.run(cmd, capture_output=True, text=True,\n",
        "                                      check=False, timeout=timeout_per_frame)\n",
        "\n",
        "                elapsed_time = time.time() - start_time\n",
        "                print(f\"⏱️ 처리 시간: {elapsed_time:.1f}초\")\n",
        "\n",
        "                if result.returncode != 0:\n",
        "                    print(f\"❌ SimSwap 실행 실패: {frame_file.name}\")\n",
        "                    if result.stderr:\n",
        "                        print(f\"Error: {result.stderr[:200]}...\")  # 에러 메시지 축약\n",
        "                    continue\n",
        "\n",
        "                # SimSwap 출력 파일 찾기\n",
        "                result_files = list(self.swapped_frames_path.glob(\"*.jpg\"))\n",
        "                if result_files:\n",
        "                    # 가장 최근에 생성된 파일 선택\n",
        "                    latest_file = max(result_files, key=lambda f: f.stat().st_mtime)\n",
        "                    if latest_file != output_file:\n",
        "                        latest_file.rename(output_file)\n",
        "                    success_count += 1\n",
        "                    print(f\"✅ 완료: {output_file.name}\")\n",
        "                else:\n",
        "                    print(f\"⚠️ 결과 파일을 찾을 수 없음: {frame_file.name}\")\n",
        "\n",
        "            except subprocess.TimeoutExpired:\n",
        "                print(f\"⏰ 타임아웃 ({timeout_per_frame}초): {frame_file.name}\")\n",
        "                continue\n",
        "            except Exception as e:\n",
        "                print(f\"❌ 실패: {frame_file.name} - {str(e)}\")\n",
        "                continue\n",
        "\n",
        "        print(f\"✅ 얼굴 교체 완료: {success_count}/{len(frame_files)}개 성공\")\n",
        "        return success_count > 0\n",
        "\n",
        "    def create_video_from_frames(self, fps=30.0, width=1920, height=1080):\n",
        "        \"\"\"합성된 프레임들로 영상 생성\"\"\"\n",
        "        print(\"🎬 합성 이미지들로 영상 생성 중...\")\n",
        "\n",
        "        # 합성된 프레임 파일들 가져오기\n",
        "        swapped_files = sorted(self.swapped_frames_path.glob(\"swapped_*.jpg\"))\n",
        "\n",
        "        if not swapped_files:\n",
        "            print(\"❌ 합성된 프레임이 없습니다\")\n",
        "            return False\n",
        "\n",
        "        # 출력 영상 경로\n",
        "        output_video = self.output_path / \"face_swapped_video.mp4\"\n",
        "        self.output_path.mkdir(exist_ok=True)\n",
        "\n",
        "        # VideoWriter 설정\n",
        "        fourcc = cv2.VideoWriter_fourcc(*'mp4v')\n",
        "        out = cv2.VideoWriter(str(output_video), fourcc, fps, (width, height))\n",
        "\n",
        "        if not out.isOpened():\n",
        "            print(\"❌ VideoWriter를 열 수 없습니다\")\n",
        "            return False\n",
        "\n",
        "        for i, frame_file in enumerate(swapped_files):\n",
        "            img = cv2.imread(str(frame_file))\n",
        "            if img is None:\n",
        "                print(f\"⚠️ 이미지를 읽을 수 없음: {frame_file}\")\n",
        "                continue\n",
        "\n",
        "            # 크기 조정 (필요한 경우)\n",
        "            if img.shape[:2] != (height, width):\n",
        "                img = cv2.resize(img, (width, height))\n",
        "\n",
        "            out.write(img)\n",
        "\n",
        "            if (i + 1) % 5 == 0:\n",
        "                print(f\"📹 진행: {i+1}/{len(swapped_files)} 프레임 처리됨\")\n",
        "\n",
        "        out.release()\n",
        "\n",
        "        print(f\"🎉 영상 생성 완료: {output_video}\")\n",
        "        return True\n",
        "\n",
        "    def cleanup_temp_files(self):\n",
        "        \"\"\"임시 파일 정리\"\"\"\n",
        "        print(\"🧹 임시 파일 정리 중...\")\n",
        "\n",
        "        # SimSwap 압축 파일들\n",
        "        temp_files = [\"checkpoints.zip\", \"512.zip\", \"antelope.zip\"]\n",
        "        for temp_file in temp_files:\n",
        "            temp_path = self.simswap_path / temp_file\n",
        "            if temp_path.exists():\n",
        "                temp_path.unlink()\n",
        "\n",
        "        print(\"✅ 정리 완료\")\n",
        "\n",
        "    def process_video(self, frame_interval=5, max_frames=10, install_deps=False,\n",
        "                     download_models=True, cleanup=True, debug_mode=False):\n",
        "        \"\"\"전체 영상 처리 과정 - 최적화 및 디버깅 옵션 추가\"\"\"\n",
        "        try:\n",
        "            print(\"🚀 영상 얼굴 교체 시작!\")\n",
        "\n",
        "            # 환경 설정\n",
        "            if not self.simswap_path.exists():\n",
        "                self.setup_environment()\n",
        "\n",
        "            if install_deps:\n",
        "                self.install_dependencies()\n",
        "\n",
        "            if download_models:\n",
        "                self.download_models()\n",
        "\n",
        "            # 1. 소스 이미지 전처리\n",
        "            if not self.preprocess_source_image():\n",
        "                return False\n",
        "\n",
        "            # 2. 소스 얼굴 검증\n",
        "            if not self.validate_source_face():\n",
        "                return False\n",
        "\n",
        "            # 3. 영상에서 프레임 추출 (제한된 수량)\n",
        "            frame_files, fps, width, height = self.extract_frames_from_video(\n",
        "                frame_interval, max_frames)\n",
        "            if not frame_files:\n",
        "                return False\n",
        "\n",
        "            # 디버깅 모드인 경우 첫 번째 프레임만 테스트\n",
        "            if debug_mode and frame_files:\n",
        "                print(\"🔍 디버깅 모드: 첫 번째 프레임만 테스트\")\n",
        "                new_files = self.debug_simswap_output(frame_files[0])\n",
        "                return len(new_files) > 0\n",
        "\n",
        "            # 4. 배치 얼굴 교체\n",
        "            if not self.swap_faces_batch(frame_files):\n",
        "                return False\n",
        "\n",
        "            # 5. 새 영상 생성\n",
        "            if not self.create_video_from_frames(fps, width, height):\n",
        "                return False\n",
        "\n",
        "            # 6. 정리\n",
        "            if cleanup:\n",
        "                self.cleanup_temp_files()\n",
        "\n",
        "            print(\"🎉 모든 과정 완료!\")\n",
        "            print(f\"📁 결과 영상: {self.output_path}/face_swapped_video.mp4\")\n",
        "            return True\n",
        "\n",
        "        except Exception as e:\n",
        "            print(f\"❌ 오류 발생: {e}\")\n",
        "            import traceback\n",
        "            traceback.print_exc()\n",
        "            return False\n",
        "\n",
        "# 사용 예시\n",
        "if __name__ == \"__main__\":\n",
        "    processor = VideoFaceSwapProcessor()\n",
        "\n",
        "    # 디버깅 모드로 먼저 테스트\n",
        "    print(\"=== 디버깅 모드 테스트 ===\")\n",
        "    processor.process_video(debug_mode=True)\n",
        "\n",
        "    # 정상 모드 (소량 프레임으로 테스트)\n",
        "    print(\"\\n=== 소량 프레임 테스트 ===\")\n",
        "    processor.process_video(\n",
        "        frame_interval=5,       # 10프레임 간격으로 추출\n",
        "        max_frames=300,           # 최대 5개 프레임만\n",
        "        install_deps=False,     # 최초 실행시만 True\n",
        "        download_models=True,   # 모델 다운로드 여부\n",
        "        cleanup=True           # 임시 파일 정리 여부\n",
        "    )"
      ],
      "metadata": {
        "id": "R5gL7n49dGw0"
      },
      "execution_count": null,
      "outputs": []
    },
    {
      "cell_type": "markdown",
      "metadata": {
        "id": "D4fUfjQYUlYz"
      },
      "source": [
        "## Prepare code"
      ]
    },
    {
      "cell_type": "code",
      "metadata": {
        "id": "BQGu8shAWOPE"
      },
      "source": [
        "%cd /content/SimSwap"
      ],
      "execution_count": null,
      "outputs": []
    },
    {
      "cell_type": "markdown",
      "metadata": {
        "id": "xTo1C8aPUoOh"
      },
      "source": [
        "## Prepare models"
      ]
    },
    {
      "cell_type": "code",
      "metadata": {
        "id": "gLti1J0pEFjJ"
      },
      "source": [
        "!wget https://github.com/woctezuma/SimSwap-colab/releases/download/antelope/antelope.zip\n",
        "!wget -P ./arcface_model https://github.com/woctezuma/SimSwap-colab/releases/download/1.0/arcface_checkpoint.tar\n",
        "!wget https://github.com/neuralchen/SimSwap/releases/download/1.0/checkpoints.zip\n",
        "!wget -P ./parsing_model/checkpoint https://github.com/neuralchen/SimSwap/releases/download/1.0/79999_iter.pth\n",
        "!wget https://github.com/neuralchen/SimSwap/releases/download/512_beta/512.zip"
      ],
      "execution_count": null,
      "outputs": []
    },
    {
      "cell_type": "markdown",
      "metadata": {
        "id": "_ZD8GPHsU4lN"
      },
      "source": [
        "## Prepare data"
      ]
    },
    {
      "cell_type": "markdown",
      "metadata": {
        "id": "T3YlcuLdVyZg"
      },
      "source": [
        "### Download"
      ]
    },
    {
      "cell_type": "code",
      "metadata": {
        "id": "g-y81Z5dV3pR"
      },
      "source": [
        "input_fname = '/content/source.png'\n",
        "output_fname = '/content/target.png'"
      ],
      "execution_count": null,
      "outputs": []
    },
    {
      "cell_type": "markdown",
      "metadata": {
        "id": "rcoRX8OnVImS"
      },
      "source": [
        "### Convert to JPG\n",
        "\n",
        "Images should not be too large, hence the (arbitrary) limitation of 1024 length."
      ]
    },
    {
      "cell_type": "code",
      "metadata": {
        "id": "CLf-l1tjTY0W"
      },
      "source": [
        "def get_new_size(img_size,\n",
        "                 max_allowed_length = 1024):\n",
        "\n",
        "  if any(max_allowed_length < sz for sz in img_size):\n",
        "    long_length = max(img_size)\n",
        "    ratio = max_allowed_length / long_length\n",
        "  else:\n",
        "    ratio = 1.0\n",
        "\n",
        "  new_img_size = [\n",
        "                  int(ratio*sz)\n",
        "                  for sz in img_size\n",
        "                  ]\n",
        "\n",
        "  return tuple(new_img_size)"
      ],
      "execution_count": null,
      "outputs": []
    },
    {
      "cell_type": "code",
      "metadata": {
        "id": "UEOmN-DdPB5g"
      },
      "source": [
        "from PIL import Image\n",
        "\n",
        "allow_resize = False\n",
        "\n",
        "for fname in [input_fname, output_fname]:\n",
        "  jpg_fname = fname.replace('.png', '.jpg')\n",
        "\n",
        "  try:\n",
        "    img = Image.open(fname)\n",
        "  except FileNotFoundError:\n",
        "    continue\n",
        "\n",
        "  new_size = get_new_size(img.size, max_allowed_length = 1024)\n",
        "  if allow_resize:\n",
        "    print(f'Resizing from {img.size} to {new_size}')\n",
        "    img.resize(new_size)\n",
        "\n",
        "  print(f'Saving to {jpg_fname}')\n",
        "  img.convert('RGB').save(jpg_fname)\n",
        "\n",
        "jpg_input = input_fname.replace('.png', '.jpg')\n",
        "jpg_output = output_fname.replace('.png', '.jpg')"
      ],
      "execution_count": null,
      "outputs": []
    },
    {
      "cell_type": "code",
      "source": [
        "from PIL import Image\n",
        "import cv2\n",
        "import numpy as np\n",
        "import insightface\n",
        "\n",
        "# SCRFD + ArcFace 모델 로드 (더 강력함)\n",
        "face_detector = insightface.app.FaceAnalysis(name='buffalo_l')  # ← 기존 'antelope'보다 좋음\n",
        "face_detector.prepare(ctx_id=0, det_size=(320, 320))\n",
        "\n",
        "img_path = '/content/source.png'\n",
        "img = cv2.imread(img_path)\n",
        "\n",
        "faces = face_detector.get(img)\n",
        "\n",
        "if len(faces) > 0:\n",
        "    face = faces[0]\n",
        "    x1, y1, x2, y2 = face.bbox.astype(int)\n",
        "    face_crop = img[y1:y2, x1:x2]\n",
        "    cropped_path = '/content/cpc_ackboo_crop.jpg'\n",
        "    cv2.imwrite(cropped_path, face_crop)\n",
        "    print(f'✅ 얼굴 감지 성공! → {cropped_path}')\n",
        "else:\n",
        "    print('❌ 얼굴을 찾지 못했습니다.')\n"
      ],
      "metadata": {
        "id": "xVfbiUT5RSTX"
      },
      "execution_count": null,
      "outputs": []
    },
    {
      "cell_type": "code",
      "source": [
        "import cv2\n",
        "import insightface\n",
        "\n",
        "face_detector = insightface.app.FaceAnalysis(name='buffalo_l')\n",
        "face_detector.prepare(ctx_id=0, det_size=(640, 640))\n",
        "\n",
        "img = cv2.imread(jpg_output)  # ← 타겟 이미지\n",
        "faces = face_detector.get(img)\n",
        "\n",
        "if not faces:\n",
        "    print(\"❌ 타겟 이미지에서 얼굴 인식 실패 → SimSwap 실패 원인\")\n",
        "else:\n",
        "    print(f\"✅ 타겟에서 얼굴 {len(faces)}개 인식됨\")\n"
      ],
      "metadata": {
        "id": "mekoh71KTgl1"
      },
      "execution_count": null,
      "outputs": []
    },
    {
      "cell_type": "code",
      "source": [
        "input_fname = '/content/cpc_ackboo_crop.jpg'"
      ],
      "metadata": {
        "id": "siW76mmASaB_"
      },
      "execution_count": null,
      "outputs": []
    },
    {
      "cell_type": "markdown",
      "metadata": {
        "id": "VZBoCtU9U8B3"
      },
      "source": [
        "## Run"
      ]
    },
    {
      "cell_type": "markdown",
      "metadata": {
        "id": "tZ_ZBtDQVLco"
      },
      "source": [
        "### Single"
      ]
    },
    {
      "cell_type": "code",
      "source": [
        "cd /content/SimSwap"
      ],
      "metadata": {
        "id": "oWAOn0_A_65t"
      },
      "execution_count": null,
      "outputs": []
    },
    {
      "cell_type": "code",
      "metadata": {
        "id": "zywghoUNOAmS"
      },
      "source": [
        "%cd /content/SimSwap\n",
        "%mkdir -p /content/output/single/\n",
        "\n",
        "!python test_wholeimage_swapsingle.py \\\n",
        " --no_simswaplogo \\\n",
        " --use_mask \\\n",
        " --crop_size 512 \\\n",
        " --isTrain false \\\n",
        " --name people \\\n",
        " --Arc_path arcface_model/arcface_checkpoint.tar \\\n",
        " --pic_a_path {jpg_input} \\\n",
        " --pic_b_path {jpg_output} \\\n",
        " --output_path /content/output/single/ \\\n",
        " --gpu_ids 0 > /dev/null\n",
        ""
      ],
      "execution_count": null,
      "outputs": []
    },
    {
      "cell_type": "markdown",
      "metadata": {
        "id": "9MxvjygsVNb4"
      },
      "source": [
        "### Multi"
      ]
    },
    {
      "cell_type": "code",
      "metadata": {
        "id": "PudoS9JBRsOs"
      },
      "source": [
        "%cd /content/SimSwap\n",
        "%mkdir -p /content/output/multi/\n",
        "\n",
        "!python test_wholeimage_swapmulti.py \\\n",
        " --no_simswaplogo \\\n",
        " --use_mask \\\n",
        " --crop_size 512 \\\n",
        " --isTrain false \\\n",
        " --name people \\\n",
        " --Arc_path arcface_model/arcface_checkpoint.tar \\\n",
        " --pic_a_path {jpg_input} \\\n",
        " --pic_b_path {jpg_output} \\\n",
        " --output_path /content/output/multi/ \\\n",
        " --gpu_ids 0 > /dev/null\n"
      ],
      "execution_count": null,
      "outputs": []
    },
    {
      "cell_type": "code",
      "source": [
        "import os\n",
        "import insightface\n",
        "\n",
        "# 현재 디렉토리 확인\n",
        "print(\"현재 위치:\", os.getcwd())\n",
        "\n",
        "# insightface_func/models 디렉토리로 이동\n",
        "os.chdir('./insightface_func/models/')\n",
        "print(\"변경된 위치:\", os.getcwd())\n",
        "\n",
        "# buffalo_l 모델 다운로드\n",
        "print(\"buffalo_l 모델 다운로드 중...\")\n",
        "app = insightface.app.FaceAnalysis(name='buffalo_l', root='./')\n",
        "app.prepare(ctx_id=-1)  # CPU 모드로 준비 (다운로드만 목적)\n",
        "\n",
        "print(\"✅ buffalo_l 다운로드 완료!\")\n",
        "\n",
        "# 다운로드된 파일 확인\n",
        "print(\"\\n다운로드된 파일들:\")\n",
        "!ls -la ./buffalo_l/\n",
        "\n",
        "# 원래 디렉토리로 돌아가기\n",
        "os.chdir('../../')\n",
        "print(\"원래 위치로 복귀:\", os.getcwd())"
      ],
      "metadata": {
        "id": "guvLgDZIYS3-"
      },
      "execution_count": null,
      "outputs": []
    },
    {
      "cell_type": "code",
      "source": [
        "ls -la ./insightface_func/models/"
      ],
      "metadata": {
        "id": "gCMBquwDX_J3"
      },
      "execution_count": null,
      "outputs": []
    },
    {
      "cell_type": "code",
      "source": [
        "%cd /content/SimSwap\n",
        "!head -70 test_wholeimage_swapsingle.py | grep -A 10 -B 10 \"Face_detect_crop\\|app.get\""
      ],
      "metadata": {
        "id": "rZa_q_VlVWJd"
      },
      "execution_count": null,
      "outputs": []
    }
  ]
}