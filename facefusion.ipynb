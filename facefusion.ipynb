{
  "nbformat": 4,
  "nbformat_minor": 0,
  "metadata": {
    "colab": {
      "provenance": [],
      "gpuType": "T4",
      "authorship_tag": "ABX9TyMnwtgZPgFSPf9tK5hU31L5",
      "include_colab_link": true
    },
    "kernelspec": {
      "name": "python3",
      "display_name": "Python 3"
    },
    "language_info": {
      "name": "python"
    },
    "accelerator": "GPU"
  },
  "cells": [
    {
      "cell_type": "markdown",
      "metadata": {
        "id": "view-in-github",
        "colab_type": "text"
      },
      "source": [
        "<a href=\"https://colab.research.google.com/github/01star01ek/01star01ek/blob/main/facefusion.ipynb\" target=\"_parent\"><img src=\"https://colab.research.google.com/assets/colab-badge.svg\" alt=\"Open In Colab\"/></a>"
      ]
    },
    {
      "cell_type": "code",
      "execution_count": 5,
      "metadata": {
        "colab": {
          "base_uri": "https://localhost:8080/"
        },
        "id": "td36c5GpQoHQ",
        "outputId": "ef260e3a-30c3-4a13-c8c1-7ac8b128965b"
      },
      "outputs": [
        {
          "output_type": "stream",
          "name": "stdout",
          "text": [
            "fatal: destination path 'facefusion' already exists and is not an empty directory.\n",
            "/content/facefusion\n",
            "Requirement already satisfied: gradio==5.25.2 in /usr/local/lib/python3.11/dist-packages (from -r requirements.txt (line 1)) (5.25.2)\n",
            "Requirement already satisfied: gradio-rangeslider==0.0.8 in /usr/local/lib/python3.11/dist-packages (from -r requirements.txt (line 2)) (0.0.8)\n",
            "Requirement already satisfied: numpy==2.2.4 in /usr/local/lib/python3.11/dist-packages (from -r requirements.txt (line 3)) (2.2.4)\n",
            "Requirement already satisfied: onnx==1.17.0 in /usr/local/lib/python3.11/dist-packages (from -r requirements.txt (line 4)) (1.17.0)\n",
            "Requirement already satisfied: onnxruntime==1.21.1 in /usr/local/lib/python3.11/dist-packages (from -r requirements.txt (line 5)) (1.21.1)\n",
            "Requirement already satisfied: opencv-python==4.11.0.86 in /usr/local/lib/python3.11/dist-packages (from -r requirements.txt (line 6)) (4.11.0.86)\n",
            "Requirement already satisfied: psutil==7.0.0 in /usr/local/lib/python3.11/dist-packages (from -r requirements.txt (line 7)) (7.0.0)\n",
            "Requirement already satisfied: tqdm==4.67.1 in /usr/local/lib/python3.11/dist-packages (from -r requirements.txt (line 8)) (4.67.1)\n",
            "Requirement already satisfied: scipy==1.15.2 in /usr/local/lib/python3.11/dist-packages (from -r requirements.txt (line 9)) (1.15.2)\n",
            "Requirement already satisfied: aiofiles<25.0,>=22.0 in /usr/local/lib/python3.11/dist-packages (from gradio==5.25.2->-r requirements.txt (line 1)) (24.1.0)\n",
            "Requirement already satisfied: anyio<5.0,>=3.0 in /usr/local/lib/python3.11/dist-packages (from gradio==5.25.2->-r requirements.txt (line 1)) (4.9.0)\n",
            "Requirement already satisfied: fastapi<1.0,>=0.115.2 in /usr/local/lib/python3.11/dist-packages (from gradio==5.25.2->-r requirements.txt (line 1)) (0.115.12)\n",
            "Requirement already satisfied: ffmpy in /usr/local/lib/python3.11/dist-packages (from gradio==5.25.2->-r requirements.txt (line 1)) (0.6.0)\n",
            "Requirement already satisfied: gradio-client==1.8.0 in /usr/local/lib/python3.11/dist-packages (from gradio==5.25.2->-r requirements.txt (line 1)) (1.8.0)\n",
            "Requirement already satisfied: groovy~=0.1 in /usr/local/lib/python3.11/dist-packages (from gradio==5.25.2->-r requirements.txt (line 1)) (0.1.2)\n",
            "Requirement already satisfied: httpx>=0.24.1 in /usr/local/lib/python3.11/dist-packages (from gradio==5.25.2->-r requirements.txt (line 1)) (0.28.1)\n",
            "Requirement already satisfied: huggingface-hub>=0.28.1 in /usr/local/lib/python3.11/dist-packages (from gradio==5.25.2->-r requirements.txt (line 1)) (0.33.0)\n",
            "Requirement already satisfied: jinja2<4.0 in /usr/local/lib/python3.11/dist-packages (from gradio==5.25.2->-r requirements.txt (line 1)) (3.1.6)\n",
            "Requirement already satisfied: markupsafe<4.0,>=2.0 in /usr/local/lib/python3.11/dist-packages (from gradio==5.25.2->-r requirements.txt (line 1)) (3.0.2)\n",
            "Requirement already satisfied: orjson~=3.0 in /usr/local/lib/python3.11/dist-packages (from gradio==5.25.2->-r requirements.txt (line 1)) (3.10.18)\n",
            "Requirement already satisfied: packaging in /usr/local/lib/python3.11/dist-packages (from gradio==5.25.2->-r requirements.txt (line 1)) (24.2)\n",
            "Requirement already satisfied: pandas<3.0,>=1.0 in /usr/local/lib/python3.11/dist-packages (from gradio==5.25.2->-r requirements.txt (line 1)) (2.2.2)\n",
            "Requirement already satisfied: pillow<12.0,>=8.0 in /usr/local/lib/python3.11/dist-packages (from gradio==5.25.2->-r requirements.txt (line 1)) (11.2.1)\n",
            "Requirement already satisfied: pydantic<2.12,>=2.0 in /usr/local/lib/python3.11/dist-packages (from gradio==5.25.2->-r requirements.txt (line 1)) (2.11.5)\n",
            "Requirement already satisfied: pydub in /usr/local/lib/python3.11/dist-packages (from gradio==5.25.2->-r requirements.txt (line 1)) (0.25.1)\n",
            "Requirement already satisfied: python-multipart>=0.0.18 in /usr/local/lib/python3.11/dist-packages (from gradio==5.25.2->-r requirements.txt (line 1)) (0.0.20)\n",
            "Requirement already satisfied: pyyaml<7.0,>=5.0 in /usr/local/lib/python3.11/dist-packages (from gradio==5.25.2->-r requirements.txt (line 1)) (6.0.2)\n",
            "Requirement already satisfied: ruff>=0.9.3 in /usr/local/lib/python3.11/dist-packages (from gradio==5.25.2->-r requirements.txt (line 1)) (0.11.13)\n",
            "Requirement already satisfied: safehttpx<0.2.0,>=0.1.6 in /usr/local/lib/python3.11/dist-packages (from gradio==5.25.2->-r requirements.txt (line 1)) (0.1.6)\n",
            "Requirement already satisfied: semantic-version~=2.0 in /usr/local/lib/python3.11/dist-packages (from gradio==5.25.2->-r requirements.txt (line 1)) (2.10.0)\n",
            "Requirement already satisfied: starlette<1.0,>=0.40.0 in /usr/local/lib/python3.11/dist-packages (from gradio==5.25.2->-r requirements.txt (line 1)) (0.46.2)\n",
            "Requirement already satisfied: tomlkit<0.14.0,>=0.12.0 in /usr/local/lib/python3.11/dist-packages (from gradio==5.25.2->-r requirements.txt (line 1)) (0.13.3)\n",
            "Requirement already satisfied: typer<1.0,>=0.12 in /usr/local/lib/python3.11/dist-packages (from gradio==5.25.2->-r requirements.txt (line 1)) (0.16.0)\n",
            "Requirement already satisfied: typing-extensions~=4.0 in /usr/local/lib/python3.11/dist-packages (from gradio==5.25.2->-r requirements.txt (line 1)) (4.14.0)\n",
            "Requirement already satisfied: uvicorn>=0.14.0 in /usr/local/lib/python3.11/dist-packages (from gradio==5.25.2->-r requirements.txt (line 1)) (0.34.3)\n",
            "Requirement already satisfied: protobuf>=3.20.2 in /usr/local/lib/python3.11/dist-packages (from onnx==1.17.0->-r requirements.txt (line 4)) (5.29.5)\n",
            "Requirement already satisfied: coloredlogs in /usr/local/lib/python3.11/dist-packages (from onnxruntime==1.21.1->-r requirements.txt (line 5)) (15.0.1)\n",
            "Requirement already satisfied: flatbuffers in /usr/local/lib/python3.11/dist-packages (from onnxruntime==1.21.1->-r requirements.txt (line 5)) (25.2.10)\n",
            "Requirement already satisfied: sympy in /usr/local/lib/python3.11/dist-packages (from onnxruntime==1.21.1->-r requirements.txt (line 5)) (1.13.1)\n",
            "Requirement already satisfied: fsspec in /usr/local/lib/python3.11/dist-packages (from gradio-client==1.8.0->gradio==5.25.2->-r requirements.txt (line 1)) (2025.3.2)\n",
            "Requirement already satisfied: websockets<16.0,>=10.0 in /usr/local/lib/python3.11/dist-packages (from gradio-client==1.8.0->gradio==5.25.2->-r requirements.txt (line 1)) (15.0.1)\n",
            "Requirement already satisfied: idna>=2.8 in /usr/local/lib/python3.11/dist-packages (from anyio<5.0,>=3.0->gradio==5.25.2->-r requirements.txt (line 1)) (3.10)\n",
            "Requirement already satisfied: sniffio>=1.1 in /usr/local/lib/python3.11/dist-packages (from anyio<5.0,>=3.0->gradio==5.25.2->-r requirements.txt (line 1)) (1.3.1)\n",
            "Requirement already satisfied: certifi in /usr/local/lib/python3.11/dist-packages (from httpx>=0.24.1->gradio==5.25.2->-r requirements.txt (line 1)) (2025.4.26)\n",
            "Requirement already satisfied: httpcore==1.* in /usr/local/lib/python3.11/dist-packages (from httpx>=0.24.1->gradio==5.25.2->-r requirements.txt (line 1)) (1.0.9)\n",
            "Requirement already satisfied: h11>=0.16 in /usr/local/lib/python3.11/dist-packages (from httpcore==1.*->httpx>=0.24.1->gradio==5.25.2->-r requirements.txt (line 1)) (0.16.0)\n",
            "Requirement already satisfied: filelock in /usr/local/lib/python3.11/dist-packages (from huggingface-hub>=0.28.1->gradio==5.25.2->-r requirements.txt (line 1)) (3.18.0)\n",
            "Requirement already satisfied: requests in /usr/local/lib/python3.11/dist-packages (from huggingface-hub>=0.28.1->gradio==5.25.2->-r requirements.txt (line 1)) (2.32.3)\n",
            "Requirement already satisfied: hf-xet<2.0.0,>=1.1.2 in /usr/local/lib/python3.11/dist-packages (from huggingface-hub>=0.28.1->gradio==5.25.2->-r requirements.txt (line 1)) (1.1.3)\n",
            "Requirement already satisfied: python-dateutil>=2.8.2 in /usr/local/lib/python3.11/dist-packages (from pandas<3.0,>=1.0->gradio==5.25.2->-r requirements.txt (line 1)) (2.9.0.post0)\n",
            "Requirement already satisfied: pytz>=2020.1 in /usr/local/lib/python3.11/dist-packages (from pandas<3.0,>=1.0->gradio==5.25.2->-r requirements.txt (line 1)) (2025.2)\n",
            "Requirement already satisfied: tzdata>=2022.7 in /usr/local/lib/python3.11/dist-packages (from pandas<3.0,>=1.0->gradio==5.25.2->-r requirements.txt (line 1)) (2025.2)\n",
            "Requirement already satisfied: annotated-types>=0.6.0 in /usr/local/lib/python3.11/dist-packages (from pydantic<2.12,>=2.0->gradio==5.25.2->-r requirements.txt (line 1)) (0.7.0)\n",
            "Requirement already satisfied: pydantic-core==2.33.2 in /usr/local/lib/python3.11/dist-packages (from pydantic<2.12,>=2.0->gradio==5.25.2->-r requirements.txt (line 1)) (2.33.2)\n",
            "Requirement already satisfied: typing-inspection>=0.4.0 in /usr/local/lib/python3.11/dist-packages (from pydantic<2.12,>=2.0->gradio==5.25.2->-r requirements.txt (line 1)) (0.4.1)\n",
            "Requirement already satisfied: click>=8.0.0 in /usr/local/lib/python3.11/dist-packages (from typer<1.0,>=0.12->gradio==5.25.2->-r requirements.txt (line 1)) (8.2.1)\n",
            "Requirement already satisfied: shellingham>=1.3.0 in /usr/local/lib/python3.11/dist-packages (from typer<1.0,>=0.12->gradio==5.25.2->-r requirements.txt (line 1)) (1.5.4)\n",
            "Requirement already satisfied: rich>=10.11.0 in /usr/local/lib/python3.11/dist-packages (from typer<1.0,>=0.12->gradio==5.25.2->-r requirements.txt (line 1)) (13.9.4)\n",
            "Requirement already satisfied: humanfriendly>=9.1 in /usr/local/lib/python3.11/dist-packages (from coloredlogs->onnxruntime==1.21.1->-r requirements.txt (line 5)) (10.0)\n",
            "Requirement already satisfied: mpmath<1.4,>=1.1.0 in /usr/local/lib/python3.11/dist-packages (from sympy->onnxruntime==1.21.1->-r requirements.txt (line 5)) (1.3.0)\n",
            "Requirement already satisfied: six>=1.5 in /usr/local/lib/python3.11/dist-packages (from python-dateutil>=2.8.2->pandas<3.0,>=1.0->gradio==5.25.2->-r requirements.txt (line 1)) (1.17.0)\n",
            "Requirement already satisfied: markdown-it-py>=2.2.0 in /usr/local/lib/python3.11/dist-packages (from rich>=10.11.0->typer<1.0,>=0.12->gradio==5.25.2->-r requirements.txt (line 1)) (3.0.0)\n",
            "Requirement already satisfied: pygments<3.0.0,>=2.13.0 in /usr/local/lib/python3.11/dist-packages (from rich>=10.11.0->typer<1.0,>=0.12->gradio==5.25.2->-r requirements.txt (line 1)) (2.19.1)\n",
            "Requirement already satisfied: charset-normalizer<4,>=2 in /usr/local/lib/python3.11/dist-packages (from requests->huggingface-hub>=0.28.1->gradio==5.25.2->-r requirements.txt (line 1)) (3.4.2)\n",
            "Requirement already satisfied: urllib3<3,>=1.21.1 in /usr/local/lib/python3.11/dist-packages (from requests->huggingface-hub>=0.28.1->gradio==5.25.2->-r requirements.txt (line 1)) (2.4.0)\n",
            "Requirement already satisfied: mdurl~=0.1 in /usr/local/lib/python3.11/dist-packages (from markdown-it-py>=2.2.0->rich>=10.11.0->typer<1.0,>=0.12->gradio==5.25.2->-r requirements.txt (line 1)) (0.1.2)\n"
          ]
        }
      ],
      "source": [
        "# 1. Clone repo & 필요한 패키지 설치\n",
        "!git clone https://github.com/facefusion/facefusion.git\n",
        "%cd facefusion\n",
        "!pip install -r requirements.txt"
      ]
    },
    {
      "cell_type": "code",
      "source": [
        "!python facefusion.py headless-run \\\n",
        "  --source /content/001.png \\\n",
        "  --target /content/0001.mp4 \\\n",
        "  --output-path /content/output_video.mp4 \\\n",
        "  --face-swapper-model inswapper_128 \\\n",
        "  --face-enhancer-model gfpgan_1.3 \\\n",
        "  --execution-thread-count 2 \\\n",
        "  --processors face_swapper face_enhancer"
      ],
      "metadata": {
        "colab": {
          "base_uri": "https://localhost:8080/"
        },
        "id": "-9uPsdm8QqFv",
        "outputId": "b3137111-c1a6-4b28-e68a-b68b3aa24976"
      },
      "execution_count": 6,
      "outputs": [
        {
          "output_type": "stream",
          "name": "stdout",
          "text": [
            "[FACEFUSION.CORE] Processing step 1 of 1\n",
            "Downloading: 100% 12.1M/12.1M [00:00<00:00, 20.9MB/s, download_providers=['github', 'huggingface'], file_name=yoloface_8n.onnx]\n",
            "Downloading: 100% 8.00/8.00 [00:00<00:00, 14.1B/s, download_providers=['github', 'huggingface'], file_name=fan_68_5.hash]\n",
            "Downloading: 100% 8.00/8.00 [00:00<00:00, 15.1B/s, download_providers=['github', 'huggingface'], file_name=2dfan4.hash]\n",
            "Downloading: 100% 922k/922k [00:00<00:00, 1.83MB/s, download_providers=['github', 'huggingface'], file_name=fan_68_5.onnx]\n",
            "Downloading: 100% 93.4M/93.4M [00:01<00:00, 88.6MB/s, download_providers=['github', 'huggingface'], file_name=2dfan4.onnx]\n",
            "Downloading: 100% 8.00/8.00 [00:00<00:00, 16.6B/s, download_providers=['github', 'huggingface'], file_name=xseg_1.hash]\n",
            "Downloading: 100% 8.00/8.00 [00:00<00:00, 26.5B/s, download_providers=['github', 'huggingface'], file_name=bisenet_resnet_34.hash]\n",
            "Downloading: 100% 67.1M/67.1M [00:00<00:00, 71.6MB/s, download_providers=['github', 'huggingface'], file_name=xseg_1.onnx]\n",
            "Downloading: 100% 89.3M/89.3M [00:01<00:00, 73.2MB/s, download_providers=['github', 'huggingface'], file_name=bisenet_resnet_34.onnx]\n",
            "Downloading: 100% 8.00/8.00 [00:00<00:00, 14.3B/s, download_providers=['github', 'huggingface'], file_name=arcface_w600k_r50.hash]\n",
            "Downloading: 100% 166M/166M [00:02<00:00, 78.5MB/s, download_providers=['github', 'huggingface'], file_name=arcface_w600k_r50.onnx]\n",
            "Downloading: 100% 8.00/8.00 [00:00<00:00, 14.5B/s, download_providers=['github', 'huggingface'], file_name=kim_vocal_2.hash]\n",
            "Downloading: 100% 63.7M/63.7M [00:01<00:00, 54.6MB/s, download_providers=['github', 'huggingface'], file_name=kim_vocal_2.onnx]\n",
            "Downloading: 100% 8.00/8.00 [00:00<00:00, 15.2B/s, download_providers=['github', 'huggingface'], file_name=inswapper_128.hash]\n",
            "Downloading: 100% 530M/530M [00:04<00:00, 116MB/s, download_providers=['github', 'huggingface'], file_name=inswapper_128.onnx]\n",
            "Downloading: 100% 8.00/8.00 [00:00<00:00, 16.5B/s, download_providers=['github', 'huggingface'], file_name=gfpgan_1.3.hash]\n",
            "Downloading: 100% 325M/325M [00:07<00:00, 45.4MB/s, download_providers=['github', 'huggingface'], file_name=gfpgan_1.3.onnx]\n",
            "Analysing: 100% 469/469 [00:14<00:00, 31.80frame/s, rate=0]\n",
            "[FACEFUSION.CORE] Extracting frames with a resolution of 942x500 and 30.0 frames per second\n",
            "Extracting: 100% 469/469 [00:12<00:00, 38.96frame/s]\n",
            "[FACEFUSION.FACE_SWAPPER] Processing\n",
            "Processing: 100% 469/469 [36:00<00:00,  4.61s/frame, execution_providers=['cpu']]\n",
            "[FACEFUSION.FACE_ENHANCER] Processing\n",
            "Processing: 100% 469/469 [48:29<00:00,  6.20s/frame, execution_providers=['cpu']]\n",
            "[FACEFUSION.CORE] Merging video with a resolution of 942x500 and 30.0 frames per second\n",
            "Merging: 100% 469/469 [00:09<00:00, 47.93frame/s]\n",
            "[FACEFUSION.CORE] Restoring audio skipped\n",
            "[FACEFUSION.CORE] Processing to video succeed in 5126.89 seconds\n"
          ]
        }
      ]
    }
  ]
}